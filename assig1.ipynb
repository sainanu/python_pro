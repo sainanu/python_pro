{
 "cells": [
  {
   "cell_type": "code",
   "execution_count": 1,
   "metadata": {},
   "outputs": [
    {
     "name": "stdout",
     "output_type": "stream",
     "text": [
      "hello world\n",
      "hello world\n",
      "hello world\n",
      "hello world\n",
      "hello world\n"
     ]
    }
   ],
   "source": [
    "#1 WAPTP helloworld for 5 times using while loop\n",
    "a=\"hello world\"\n",
    "b=0\n",
    "while b<5:\n",
    "    print(a)\n",
    "    b+=1"
   ]
  },
  {
   "cell_type": "code",
   "execution_count": 7,
   "metadata": {},
   "outputs": [
    {
     "name": "stdout",
     "output_type": "stream",
     "text": [
      "1;2;3;4;5;6;7;8;9;10;"
     ]
    }
   ],
   "source": [
    "#2 waptp numbers from 1 to 10 using while loop\n",
    "a=1\n",
    "b=0\n",
    "while b<10:\n",
    "    print(a,end=\";\")\n",
    "    a+=1\n",
    "    b+=1"
   ]
  },
  {
   "cell_type": "code",
   "execution_count": 9,
   "metadata": {},
   "outputs": [
    {
     "name": "stdout",
     "output_type": "stream",
     "text": [
      "1,2,3,4,5,6,7,8,9,10,11,12,13,14,15,16,17,18,19,20,21,"
     ]
    }
   ],
   "source": [
    "#3 waptp the natural numbers using while loop\n",
    "a=1\n",
    "b=0\n",
    "while b<=20:\n",
    "    print(a,end=\",\")\n",
    "    a+=1\n",
    "    b+=1"
   ]
  },
  {
   "cell_type": "code",
   "execution_count": 10,
   "metadata": {},
   "outputs": [
    {
     "name": "stdout",
     "output_type": "stream",
     "text": [
      "10,9,8,7,6,5,4,3,2,1,"
     ]
    }
   ],
   "source": [
    "#4 WAPTP nth to 1\n",
    "a=10\n",
    "b=a\n",
    "while b >= 1:\n",
    "    print(a,end=\",\")\n",
    "    a-=1\n",
    "    b-=1"
   ]
  },
  {
   "cell_type": "code",
   "execution_count": 12,
   "metadata": {},
   "outputs": [
    {
     "name": "stdout",
     "output_type": "stream",
     "text": [
      "0,1,2,3,4,5,6,7,8,9,10,11,12,13,14,15,16,17,18,19,20,"
     ]
    }
   ],
   "source": [
    "#5 WAPTP 0 to nth\n",
    "a=0\n",
    "b=0\n",
    "while b<=20:\n",
    "    print(a,end=\",\")\n",
    "    a+=1\n",
    "    b+=1"
   ]
  },
  {
   "cell_type": "code",
   "execution_count": 13,
   "metadata": {},
   "outputs": [
    {
     "name": "stdout",
     "output_type": "stream",
     "text": [
      "20,19,18,17,16,15,14,13,12,11,10,9,8,7,6,5,4,3,2,1,0,"
     ]
    }
   ],
   "source": [
    "#6 WAPTP nth to 0\n",
    "a=20\n",
    "b=a\n",
    "while b>=0:\n",
    "    print(a,end=\",\")\n",
    "    a-=1\n",
    "    b-=1"
   ]
  },
  {
   "cell_type": "code",
   "execution_count": 14,
   "metadata": {},
   "outputs": [
    {
     "name": "stdout",
     "output_type": "stream",
     "text": [
      "1,3,5,7,9,11,13,15,17,19,"
     ]
    }
   ],
   "source": [
    "#7 WAPTP nth times odd numbers\n",
    "a=1\n",
    "while a<=20:\n",
    "    if a%2!=0:\n",
    "        print(a,end=\",\")\n",
    "    a+=1\n",
    "    "
   ]
  },
  {
   "cell_type": "code",
   "execution_count": 15,
   "metadata": {},
   "outputs": [
    {
     "name": "stdout",
     "output_type": "stream",
     "text": [
      "19,17,15,13,11,9,7,5,3,1,"
     ]
    }
   ],
   "source": [
    "#8 WAPT nth times odd numbers in reverse order\n",
    "a=20\n",
    "while a>0:\n",
    "    if a%2!=0:\n",
    "        print(a,end=\",\")\n",
    "    a-=1"
   ]
  },
  {
   "cell_type": "code",
   "execution_count": 16,
   "metadata": {},
   "outputs": [
    {
     "name": "stdout",
     "output_type": "stream",
     "text": [
      "27,30,33,36,39,42,45,48,51,54,57,60,63,66,"
     ]
    }
   ],
   "source": [
    "#9 WAPTP divisible of 3 from 25 to 66\n",
    "a=25\n",
    "while a<=66:\n",
    "    if a%3==0:\n",
    "        print(a,end=\",\")\n",
    "    a+=1"
   ]
  },
  {
   "cell_type": "code",
   "execution_count": 17,
   "metadata": {},
   "outputs": [
    {
     "name": "stdout",
     "output_type": "stream",
     "text": [
      "15,30,45,60,75,"
     ]
    }
   ],
   "source": [
    "#10 WAPTP divisible by 3 to 5 from 15 to 76\n",
    "a=15\n",
    "while a<=76:\n",
    "    if a%3==0 and a%5==0:\n",
    "        print(a,end=\",\")\n",
    "    a+=1 "
   ]
  },
  {
   "cell_type": "code",
   "execution_count": 18,
   "metadata": {},
   "outputs": [
    {
     "name": "stdout",
     "output_type": "stream",
     "text": [
      "5 * 1 = 5\n",
      "5 * 2 = 10\n",
      "5 * 3 = 15\n",
      "5 * 4 = 20\n",
      "5 * 5 = 25\n",
      "5 * 6 = 30\n",
      "5 * 7 = 35\n",
      "5 * 8 = 40\n",
      "5 * 9 = 45\n",
      "5 * 10 = 50\n",
      "5 * 11 = 55\n",
      "5 * 12 = 60\n",
      "5 * 13 = 65\n",
      "5 * 14 = 70\n",
      "5 * 15 = 75\n",
      "5 * 16 = 80\n",
      "5 * 17 = 85\n",
      "5 * 18 = 90\n",
      "5 * 19 = 95\n",
      "5 * 20 = 100\n"
     ]
    }
   ],
   "source": [
    "#11 WAPTP nth table from 1 to 20:\n",
    "a=5\n",
    "b=1\n",
    "while b<=20:\n",
    "    print(a,'*',b,'=',a*b)\n",
    "    b+=1"
   ]
  },
  {
   "cell_type": "code",
   "execution_count": 22,
   "metadata": {},
   "outputs": [
    {
     "name": "stdout",
     "output_type": "stream",
     "text": [
      "70,35,"
     ]
    }
   ],
   "source": [
    "#12 WAPTP divisible by 5 and 7 from 77 to 22\n",
    "a=77\n",
    "while a>=22:\n",
    "    if a%5==0 and a%7==0:\n",
    "        print(a,end=\",\")\n",
    "    a-=1"
   ]
  },
  {
   "cell_type": "code",
   "execution_count": 2,
   "metadata": {},
   "outputs": [
    {
     "name": "stdout",
     "output_type": "stream",
     "text": [
      "love you\n",
      "hate you\n",
      "love you\n",
      "love you\n",
      "hate you\n",
      "love you\n",
      "love you\n",
      "i like you\n",
      "love you\n",
      "hate you\n",
      "love you\n",
      "love you\n",
      "hate you\n",
      "love you\n",
      "love you\n",
      "i like you\n"
     ]
    }
   ],
   "source": [
    "#13 WAP to print the ”love you” value if divisible by 3, print “hate you” value is divisible by 5, to print “i like you” if divisible by 3 and 5, from 1 to 30.\n",
    "a=1\n",
    "while a<=30:\n",
    "    if a%3==0:\n",
    "        print(\"love you\")\n",
    "    elif a%5==0:\n",
    "        print(\"hate you\")\n",
    "    if a%5==0 and a%3==0:\n",
    "        print(\"i like you\")\n",
    "    a+=1\n"
   ]
  },
  {
   "cell_type": "code",
   "execution_count": 3,
   "metadata": {},
   "outputs": [
    {
     "name": "stdout",
     "output_type": "stream",
     "text": [
      "sum of natural numbers from 1 to 20 are  210\n"
     ]
    }
   ],
   "source": [
    "#14 WAP to print sum of the n natural numbers.\n",
    "a=1\n",
    "b=0\n",
    "while a<=20:\n",
    "    b+=a\n",
    "    a+=1\n",
    "print('sum of natural numbers from 1 to 20 are ',b)\n"
   ]
  },
  {
   "cell_type": "code",
   "execution_count": 4,
   "metadata": {},
   "outputs": [
    {
     "name": "stdout",
     "output_type": "stream",
     "text": [
      "sum of the even numbers from 1 to 20 are 110\n"
     ]
    }
   ],
   "source": [
    "#15 WAP to print sum of the even numbers 1 to 20 numbers.\n",
    "a=1\n",
    "b=0\n",
    "while a<=20:\n",
    "    if a%2==0:\n",
    "        b+=a\n",
    "    a+=1\n",
    "print(\"sum of the even numbers from 1 to 20 are\",b)"
   ]
  },
  {
   "cell_type": "code",
   "execution_count": 5,
   "metadata": {},
   "outputs": [
    {
     "name": "stdout",
     "output_type": "stream",
     "text": [
      "product of the 1 ot 6 are 720\n"
     ]
    }
   ],
   "source": [
    "#16 WAP to print products of the 1 to 6 numbers.\n",
    "a=1\n",
    "b=1\n",
    "while a<=6:\n",
    "    b*=a\n",
    "    a+=1\n",
    "print(\"product of the 1 ot 6 are\",b)\n"
   ]
  },
  {
   "cell_type": "code",
   "execution_count": 6,
   "metadata": {},
   "outputs": [
    {
     "name": "stdout",
     "output_type": "stream",
     "text": [
      "The count of no of odd values from 1 to 30 numbers are 15\n"
     ]
    }
   ],
   "source": [
    "#17 WAP to count the no of odd values from 1 to 30 numbers.\n",
    "a=1\n",
    "b=0\n",
    "while a<=30:\n",
    "    if a%2!=0:\n",
    "        b+=1\n",
    "    a+=1\n",
    "print(\"The count of no of odd values from 1 to 30 numbers are\",b)"
   ]
  },
  {
   "cell_type": "code",
   "execution_count": 7,
   "metadata": {},
   "outputs": [
    {
     "name": "stdout",
     "output_type": "stream",
     "text": [
      "1,2,4,5,10,20,"
     ]
    }
   ],
   "source": [
    "#18 WAP to print the factors of the given number.\n",
    "a=20\n",
    "b=1\n",
    "while b<=a:\n",
    "    if a%b==0:\n",
    "        print(b,end=\",\")\n",
    "    b+=1\n"
   ]
  },
  {
   "cell_type": "code",
   "execution_count": 8,
   "metadata": {},
   "outputs": [
    {
     "name": "stdout",
     "output_type": "stream",
     "text": [
      "42\n"
     ]
    }
   ],
   "source": [
    "#19 WAP to sum of the factors of the given number.\n",
    "a=20\n",
    "b=1\n",
    "c=0\n",
    "while b<=a:\n",
    "    if a%b==0:\n",
    "        c+=b\n",
    "    b+=1\n",
    "print(c)"
   ]
  },
  {
   "cell_type": "code",
   "execution_count": 9,
   "metadata": {},
   "outputs": [
    {
     "name": "stdout",
     "output_type": "stream",
     "text": [
      "42\n"
     ]
    }
   ],
   "source": [
    "#20 WAP to sum of the factors of the given number.\n",
    "a=20\n",
    "b=1\n",
    "c=0\n",
    "while b<=a:\n",
    "    if a%b==0:\n",
    "        c+=b\n",
    "    b+=1\n",
    "print(c)"
   ]
  },
  {
   "cell_type": "code",
   "execution_count": 6,
   "metadata": {},
   "outputs": [
    {
     "name": "stdout",
     "output_type": "stream",
     "text": [
      "Palindrome\n"
     ]
    }
   ],
   "source": [
    "#21 WAP to check whether the given number is palindrome or not.\n",
    "a=121\n",
    "b=a\n",
    "c=0\n",
    "while a!=0:\n",
    "    c=c*10+(a%10)\n",
    "    a//=10\n",
    "if b==c:\n",
    "    print(\"Palindrome\")\n",
    "else:\n",
    "    print(\"Not Palindrome\") \n",
    "\n"
   ]
  },
  {
   "cell_type": "code",
   "execution_count": 8,
   "metadata": {},
   "outputs": [
    {
     "name": "stdout",
     "output_type": "stream",
     "text": [
      "A,B,C,D,E,F,G,H,I,J,K,L,M,N,O,P,Q,R,S,T,U,V,W,X,Y,Z,"
     ]
    }
   ],
   "source": [
    "#22.\tWAP to print the uppercase character from ‘A’ to ‘Z’ by using a while loop.\n",
    "a=ord('A')\n",
    "while a<=ord('Z'):\n",
    "    print(chr(a),end=\",\")\n",
    "    a+=1\n"
   ]
  },
  {
   "cell_type": "code",
   "execution_count": 9,
   "metadata": {},
   "outputs": [
    {
     "name": "stdout",
     "output_type": "stream",
     "text": [
      "a,b,c,d,e,f,g,h,i,j,k,l,m,n,o,p,q,r,s,t,u,v,w,x,y,z,"
     ]
    }
   ],
   "source": [
    "#23.\tWAP to print the lowercase character from ‘a’ to  ‘z’ by using a while loop.\n",
    "a=ord('a')\n",
    "while a<=ord('z'):\n",
    "    print(chr(a),end=\",\")\n",
    "    a+=1"
   ]
  },
  {
   "cell_type": "code",
   "execution_count": 10,
   "metadata": {},
   "outputs": [
    {
     "name": "stdout",
     "output_type": "stream",
     "text": [
      "0,1,2,3,4,5,6,7,8,9,"
     ]
    }
   ],
   "source": [
    "#24.\tWAP to print the ascii numbers character from ‘0’ to ‘9’ by using a while loop.\n",
    "\n",
    "a=ord('0')\n",
    "while a<=ord('9'):\n",
    "    print(chr(a),end=\",\")\n",
    "    a+=1"
   ]
  },
  {
   "cell_type": "code",
   "execution_count": 11,
   "metadata": {},
   "outputs": [
    {
     "name": "stdout",
     "output_type": "stream",
     "text": [
      "E,F,G,H,I,J,K,L,M,N,O,P,Q,R,S,T,U,"
     ]
    }
   ],
   "source": [
    "#25 WAP to print the uppercase character from ‘E’ to ‘U’ by using a while loop.\n",
    "a=ord('E')\n",
    "while a<=ord('U'):\n",
    "    print(chr(a),end=\",\")\n",
    "    a+=1"
   ]
  },
  {
   "cell_type": "code",
   "execution_count": 12,
   "metadata": {},
   "outputs": [
    {
     "name": "stdout",
     "output_type": "stream",
     "text": [
      "Z,Y,X,W,V,U,T,S,R,Q,P,O,N,M,L,K,J,I,H,G,F,E,D,C,B,A,"
     ]
    }
   ],
   "source": [
    "#26.\tWAP to print the uppercase character from ‘Z’ to ‘A’ by using a while loop.\n",
    "a=ord('Z')\n",
    "while a>=ord('A'):\n",
    "    print(chr(a),end=\",\")\n",
    "    a-=1"
   ]
  },
  {
   "cell_type": "code",
   "execution_count": 13,
   "metadata": {},
   "outputs": [
    {
     "name": "stdout",
     "output_type": "stream",
     "text": [
      "U,T,S,R,Q,P,O,N,M,L,K,J,I,H,G,"
     ]
    }
   ],
   "source": [
    "#27.\tWAP to print the uppercase character from ‘U’ to ‘G’ by using a while loop.\n",
    "a=ord('U')\n",
    "while a>=ord('G'):\n",
    "    print(chr(a),end=\",\")\n",
    "    a-=1\n"
   ]
  },
  {
   "cell_type": "code",
   "execution_count": 14,
   "metadata": {},
   "outputs": [
    {
     "name": "stdout",
     "output_type": "stream",
     "text": [
      "i,j,k,l,m,n,o,p,q,r,s,t,u,v,w,x,y,"
     ]
    }
   ],
   "source": [
    "#28.\tWAP to print the lowercase character from ‘i’ to ‘y’ by using a while loop.\n",
    "a=ord('i')\n",
    "while a <= ord('y'):\n",
    "    print(chr(a),end=\",\")\n",
    "    a+=1 "
   ]
  },
  {
   "cell_type": "code",
   "execution_count": 15,
   "metadata": {},
   "outputs": [
    {
     "name": "stdout",
     "output_type": "stream",
     "text": [
      "z,y,x,w,v,u,t,s,r,q,p,o,n,m,l,k,j,i,h,g,f,e,d,c,b,a,"
     ]
    }
   ],
   "source": [
    "#29.\tWAP to print the lowercase character from ‘z’ to ‘a’ by using a while loop.\n",
    "a=ord('z')\n",
    "while a >= ord('a'):\n",
    "    print(chr(a),end=\",\")\n",
    "    a-=1"
   ]
  },
  {
   "cell_type": "code",
   "execution_count": 16,
   "metadata": {},
   "outputs": [
    {
     "name": "stdout",
     "output_type": "stream",
     "text": [
      "p,o,n,m,l,k,j,i,h,g,f,e,d,c,"
     ]
    }
   ],
   "source": [
    "#30.\tWAP to print the lowercase character from ‘p’ to ‘c’ by using a while loop.\n",
    "a=ord('p')\n",
    "while a >= ord('c'):\n",
    "    print(chr(a),end=\",\")\n",
    "    a-=1"
   ]
  },
  {
   "cell_type": "code",
   "execution_count": 18,
   "metadata": {},
   "outputs": [
    {
     "name": "stdout",
     "output_type": "stream",
     "text": [
      "B,D,F,H,J,L,N,P,R,T,V,X,Z,"
     ]
    }
   ],
   "source": [
    "#31.\tWAP to print the uppercase characters based on even ascii values. \n",
    "a=ord('A')\n",
    "while a <= ord('Z'):\n",
    "    if a%2==0:\n",
    "        print(chr(a),end=\",\")\n",
    "    a+=1"
   ]
  },
  {
   "cell_type": "code",
   "execution_count": 19,
   "metadata": {},
   "outputs": [
    {
     "name": "stdout",
     "output_type": "stream",
     "text": [
      "b,d,f,h,j,l,n,p,r,t,v,x,z,"
     ]
    }
   ],
   "source": [
    "#32.\tWAP to print the lowercase characters based on even ascii values. \n",
    "a=ord('a')\n",
    "while a<= ord('z'):\n",
    "    if a%2==0:\n",
    "        print(chr(a),end=\",\")\n",
    "    a+=1"
   ]
  },
  {
   "cell_type": "code",
   "execution_count": 20,
   "metadata": {},
   "outputs": [
    {
     "name": "stdout",
     "output_type": "stream",
     "text": [
      "A,C,E,G,I,K,M,O,Q,S,U,W,Y,"
     ]
    }
   ],
   "source": [
    "#33.\tWAP to print the uppercase characters based on odd ascii values. \n",
    "a=ord('A')\n",
    "while a<=ord('Z'):\n",
    "    if a%2!=0:\n",
    "        print(chr(a),end=\",\")\n",
    "    a+=1"
   ]
  },
  {
   "cell_type": "code",
   "execution_count": 22,
   "metadata": {},
   "outputs": [
    {
     "name": "stdout",
     "output_type": "stream",
     "text": [
      "a,c,e,g,i,k,m,o,q,s,u,w,y,"
     ]
    }
   ],
   "source": [
    "#34.\tWAP to print the lowercase characters based on odd ascii values. \n",
    "a=ord('a')\n",
    "while a<= ord('z'):\n",
    "    if a%2!=0:\n",
    "        print(chr(a),end=\",\")\n",
    "    a+=1"
   ]
  },
  {
   "cell_type": "code",
   "execution_count": 23,
   "metadata": {},
   "outputs": [
    {
     "name": "stdout",
     "output_type": "stream",
     "text": [
      "B,D,F,H,J,L,N,P,R,T,V,X,Z,"
     ]
    }
   ],
   "source": [
    "#35.\tWAP to print all the even characters from ‘A’ to ‘Z’.\n",
    "a=ord('A')\n",
    "while a <= ord('Z'):\n",
    "    if a%2==0:\n",
    "        print(chr(a),end=\",\")\n",
    "    a+=1"
   ]
  },
  {
   "cell_type": "code",
   "execution_count": 24,
   "metadata": {},
   "outputs": [
    {
     "name": "stdout",
     "output_type": "stream",
     "text": [
      "a,c,e,g,i,k,m,o,q,s,u,w,y,"
     ]
    }
   ],
   "source": [
    "#36.\tWAP to print all the odd characters from ‘a’ to ‘z’.\n",
    "a=ord('a')\n",
    "while a <= ord('z'):\n",
    "    if a%2!=0:\n",
    "        print(chr(a),end=\",\")\n",
    "    a+=1"
   ]
  },
  {
   "cell_type": "code",
   "execution_count": 25,
   "metadata": {},
   "outputs": [
    {
     "name": "stdout",
     "output_type": "stream",
     "text": [
      "4\n"
     ]
    }
   ],
   "source": [
    "#37 WAP to count the number of vowels present in D to V.\n",
    "a=ord('D')\n",
    "b=0\n",
    "while a<= ord('V'):\n",
    "    if chr(a) in 'AEIOU':\n",
    "        b+=1\n",
    "    a+=1\n",
    "print(b)"
   ]
  },
  {
   "cell_type": "code",
   "execution_count": 27,
   "metadata": {},
   "outputs": [
    {
     "name": "stdout",
     "output_type": "stream",
     "text": [
      "4\n"
     ]
    }
   ],
   "source": [
    "#38.\tWAP to count the number of vowels present in u to e.\n",
    "a=ord('u')\n",
    "b=0\n",
    "while a>= ord('e'):\n",
    "    if chr(a) in 'aeiou':\n",
    "        b+=1\n",
    "    a-=1\n",
    "print(b)"
   ]
  },
  {
   "cell_type": "code",
   "execution_count": 31,
   "metadata": {},
   "outputs": [
    {
     "name": "stdout",
     "output_type": "stream",
     "text": [
      "jdsjhjb\n"
     ]
    }
   ],
   "source": [
    "#39.\tWAP to print all the characters in a given string.\n",
    "a=\"jdsjhjb\"\n",
    "b=0\n",
    "c=''\n",
    "while b< len(a):\n",
    "    c+=a[b]\n",
    "    b+=1\n",
    "print(c)\n"
   ]
  },
  {
   "cell_type": "code",
   "execution_count": 32,
   "metadata": {},
   "outputs": [
    {
     "name": "stdout",
     "output_type": "stream",
     "text": [
      "SQP\n"
     ]
    }
   ],
   "source": [
    "#40.\tWAP to print the uppercase characters in a given string.\n",
    "a=\"sbS,msQjP\"\n",
    "b=0\n",
    "c=''\n",
    "while b<len(a):\n",
    "    if 'A' <= a[b] <='Z':\n",
    "        c+=a[b]\n",
    "    b+=1\n",
    "print(c)"
   ]
  },
  {
   "cell_type": "code",
   "execution_count": 33,
   "metadata": {},
   "outputs": [
    {
     "name": "stdout",
     "output_type": "stream",
     "text": [
      "sbmsj\n"
     ]
    }
   ],
   "source": [
    "#41.\tWAP to print the lowercase characters in a given string.\n",
    "a=\"sbS,msQjP\"\n",
    "b=0\n",
    "c=''\n",
    "while b<len(a):\n",
    "    if 'a' <= a[b] <='z':\n",
    "        c+=a[b]\n",
    "    b+=1\n",
    "print(c)"
   ]
  },
  {
   "cell_type": "code",
   "execution_count": 34,
   "metadata": {},
   "outputs": [
    {
     "name": "stdout",
     "output_type": "stream",
     "text": [
      "840\n"
     ]
    }
   ],
   "source": [
    "#42.\tWAP to print the ascii numbers characters in a given string.\n",
    "a=\"jhdb84kjdb0fh\"\n",
    "b=0\n",
    "c=''\n",
    "while b<len(a):\n",
    "    if '0' <= a[b] <='9':\n",
    "        c+=a[b]\n",
    "    b+=1\n",
    "print(c)"
   ]
  },
  {
   "cell_type": "code",
   "execution_count": 35,
   "metadata": {},
   "outputs": [
    {
     "name": "stdout",
     "output_type": "stream",
     "text": [
      "%@!$@\n"
     ]
    }
   ],
   "source": [
    "#43.\tWAP to print the special characters in a given string.\n",
    "a=\"bd%@!$hcvbdjh009@\"\n",
    "b=0\n",
    "c=''\n",
    "while b<len(a):\n",
    "    if not('0' <= a[b] <='9'or 'A' <= a[b] <='Z' or 'a' <= a[b] <='z'):\n",
    "        c+=a[b]\n",
    "    b+=1\n",
    "print(c)"
   ]
  },
  {
   "cell_type": "code",
   "execution_count": 40,
   "metadata": {},
   "outputs": [
    {
     "name": "stdout",
     "output_type": "stream",
     "text": [
      "fclnlfnr\n"
     ]
    }
   ],
   "source": [
    "#44.\tWAP to print the  reverse of the characters in a given string.\n",
    "a=\"rnflnlcf\"\n",
    "b=len(a)-1\n",
    "c=''\n",
    "while b>=0:\n",
    "    c+=a[b]\n",
    "    b-=1\n",
    "print(c)\n"
   ]
  },
  {
   "cell_type": "code",
   "execution_count": 4,
   "metadata": {},
   "outputs": [
    {
     "name": "stdout",
     "output_type": "stream",
     "text": [
      "vvl\n"
     ]
    }
   ],
   "source": [
    "#45.\tWAP to print even position values characters in a given string.\n",
    "a=\"jjvfvll\"\n",
    "b=0\n",
    "c=''\n",
    "while b<len(a):\n",
    "    if b%2==0 and b!=0:\n",
    "        c+=a[b]\n",
    "    b+=1\n",
    "print(c)\n"
   ]
  },
  {
   "cell_type": "code",
   "execution_count": 12,
   "metadata": {},
   "outputs": [
    {
     "name": "stdout",
     "output_type": "stream",
     "text": [
      "cj\n"
     ]
    }
   ],
   "source": [
    "#46.\tWAP to print odd position values characters in a given string.\n",
    "a=\"kcdjn\"\n",
    "b=0\n",
    "c=''\n",
    "while b<len(a):\n",
    "    if b%2!=0:\n",
    "        c+=a[b]\n",
    "    b+=1\n",
    "print(c)"
   ]
  },
  {
   "cell_type": "code",
   "execution_count": 13,
   "metadata": {},
   "outputs": [
    {
     "name": "stdout",
     "output_type": "stream",
     "text": [
      "8\n"
     ]
    }
   ],
   "source": [
    "#47.\tWAP to count Number of characters in a given string.\n",
    "a=\"vckhj90@bjs\"\n",
    "b=0\n",
    "c=0\n",
    "while b<len(a):\n",
    "    if 'a'<=a[b]<='z' or 'A'<=a[b]<='Z':\n",
    "        c+=1\n",
    "    b+=1\n",
    "print(c)"
   ]
  },
  {
   "cell_type": "code",
   "execution_count": 14,
   "metadata": {},
   "outputs": [
    {
     "name": "stdout",
     "output_type": "stream",
     "text": [
      "2\n"
     ]
    }
   ],
   "source": [
    "#48 WAP to count Number of uppercase in a given string.\n",
    "a=\"vhdjsGH)9\"\n",
    "b=0\n",
    "c=0\n",
    "while b<len(a):\n",
    "    if 'A'<=a[b]<='Z':\n",
    "        c+=1\n",
    "    b+=1\n",
    "print(c)"
   ]
  },
  {
   "cell_type": "code",
   "execution_count": 15,
   "metadata": {},
   "outputs": [
    {
     "name": "stdout",
     "output_type": "stream",
     "text": [
      "3\n"
     ]
    }
   ],
   "source": [
    "#49.\tWAP to count Number of special symbols in a given string.\n",
    "a=\"skj*(*bxj\"\n",
    "b=0\n",
    "c=0\n",
    "while b<len(a):\n",
    "    if not('A'<=a[b]<='Z' or 'a'<=a[b]<='z' or '0'<=a[b]<='9'):\n",
    "        c+=1\n",
    "    b+=1\n",
    "print(c)"
   ]
  },
  {
   "cell_type": "code",
   "execution_count": 16,
   "metadata": {},
   "outputs": [
    {
     "name": "stdout",
     "output_type": "stream",
     "text": [
      "3\n"
     ]
    }
   ],
   "source": [
    "#50.\tWAP to count Number of ascii numbers in a given string.\n",
    "a=\"vhdjs45GH)9\"\n",
    "b=0\n",
    "c=0\n",
    "while b<len(a):\n",
    "    if '0'<=a[b]<='9':\n",
    "        c+=1\n",
    "    b+=1\n",
    "print(c)"
   ]
  },
  {
   "cell_type": "code",
   "execution_count": 23,
   "metadata": {},
   "outputs": [
    {
     "name": "stdout",
     "output_type": "stream",
     "text": [
      "2\n"
     ]
    }
   ],
   "source": [
    "#51.\tWAP to count Number of new lines in a given string.\n",
    "a=\"vhd\\njs4\\n5GH)9/n\"\n",
    "b=0\n",
    "c=0\n",
    "while b<len(a):\n",
    "    if a[b]=='\\n':\n",
    "        c+=1\n",
    "    b+=1\n",
    "print(c)"
   ]
  },
  {
   "cell_type": "code",
   "execution_count": 24,
   "metadata": {},
   "outputs": [
    {
     "name": "stdout",
     "output_type": "stream",
     "text": [
      "3\n"
     ]
    }
   ],
   "source": [
    "#52.\tWAP to count Number of lines in a given string.\n",
    "a=\"vhd\\njs4\\n5GH)9/n\"\n",
    "b=0\n",
    "c=1\n",
    "while b<len(a):\n",
    "    if a[b]=='\\n':\n",
    "        c+=1\n",
    "    b+=1\n",
    "print(c)"
   ]
  },
  {
   "cell_type": "code",
   "execution_count": 26,
   "metadata": {},
   "outputs": [
    {
     "name": "stdout",
     "output_type": "stream",
     "text": [
      "No.of Alphabets  5\n",
      " No.of Numbers are  4\n",
      "No.of Special Characters are 2\n"
     ]
    }
   ],
   "source": [
    "#53.\tWAP to count no of alphabets, numbers, and special characters in a given string.\n",
    "a=\"dnl*&76ks54\"\n",
    "b=0\n",
    "c=0\n",
    "d=0\n",
    "e=0\n",
    "while b<len(a):\n",
    "    if 'A'<=a[b]<='Z' or 'a'<=a[b]<='z':\n",
    "        c+=1\n",
    "    elif '0'<=a[b]<='9':\n",
    "        d+=1\n",
    "    else:\n",
    "        e+=1\n",
    "    b+=1\n",
    "print(\"No.of Alphabets \",c)\n",
    "print(\" No.of Numbers are \",d)\n",
    "print(\"No.of Special Characters are\",e)"
   ]
  },
  {
   "cell_type": "code",
   "execution_count": 29,
   "metadata": {},
   "outputs": [
    {
     "name": "stdout",
     "output_type": "stream",
     "text": [
      "26\n"
     ]
    }
   ],
   "source": [
    "#54.\tWAP to sum of digits in a given string.\n",
    "a=\"vhd89jsGH)9\"\n",
    "b=0\n",
    "c=0\n",
    "while b<len(a):\n",
    "    if '0'<=a[b]<='9':\n",
    "        c+=int(a[b])\n",
    "    b+=1\n",
    "print(c)"
   ]
  },
  {
   "cell_type": "code",
   "execution_count": 31,
   "metadata": {},
   "outputs": [
    {
     "name": "stdout",
     "output_type": "stream",
     "text": [
      "3\n"
     ]
    }
   ],
   "source": [
    "#55.\tWAP to count the occurrence of a specific character in a given string. \n",
    "a=\"vhd89jsvvGH)9\"\n",
    "b=0\n",
    "c='v'\n",
    "d=0\n",
    "while b<len(a):\n",
    "    if c==a[b]:\n",
    "        d+=1\n",
    "    b+=1\n",
    "print(d)"
   ]
  },
  {
   "cell_type": "code",
   "execution_count": 42,
   "metadata": {},
   "outputs": [
    {
     "name": "stdout",
     "output_type": "stream",
     "text": [
      "m 2\n"
     ]
    }
   ],
   "source": [
    "#56.\tWAP to count the max occurrence of a character in a given string. \n",
    "a=\"bcklbfmvdm\"\n",
    "b=0\n",
    "f=0\n",
    "g=''\n",
    "c=list(set(a))\n",
    "while b<len(c):\n",
    "    d=0\n",
    "    e=0\n",
    "    while d<len(a):\n",
    "        if a[d]==c[b]:\n",
    "            e+=1\n",
    "        d+=1\n",
    "    if e >= f:\n",
    "        f=e\n",
    "        g=c[b]\n",
    "    b+=1\n",
    "print(g,f)\n"
   ]
  },
  {
   "cell_type": "code",
   "execution_count": 43,
   "metadata": {},
   "outputs": [
    {
     "name": "stdout",
     "output_type": "stream",
     "text": [
      "c 1\n"
     ]
    }
   ],
   "source": [
    "#57.\tWAP to count the min occurrence of a character in a given string. \n",
    "a=\"bcklbfmvdm\"\n",
    "b=0\n",
    "f=1\n",
    "g=''\n",
    "c=list(set(a))\n",
    "while b<len(c):\n",
    "    d=0\n",
    "    e=0\n",
    "    while d<len(a):\n",
    "        if a[d]==c[b]:\n",
    "            e+=1\n",
    "        d+=1\n",
    "    if e <= f:\n",
    "        f=e\n",
    "        g=c[b]\n",
    "    b+=1\n",
    "print(g,f)\n",
    "\n"
   ]
  },
  {
   "cell_type": "code",
   "execution_count": 47,
   "metadata": {},
   "outputs": [
    {
     "name": "stdout",
     "output_type": "stream",
     "text": [
      "k 0\n",
      "f 0\n",
      "l 0\n",
      "b 1\n",
      "d 0\n",
      "m 1\n",
      "v 0\n",
      "c 0\n"
     ]
    }
   ],
   "source": [
    "#58.\tWAP to count the repeats of a specific character in a given string. \n",
    "a=\"bcklbfmvdm\"\n",
    "b=0\n",
    "f=1\n",
    "g=''\n",
    "c=list(set(a))\n",
    "while b<len(c):\n",
    "    d=0\n",
    "    e=-1\n",
    "    while d<len(a):\n",
    "        if a[d]==c[b]:\n",
    "            e+=1\n",
    "        d+=1\n",
    "    print(c[b],e)\n",
    "    b+=1\n",
    "\n"
   ]
  },
  {
   "cell_type": "code",
   "execution_count": 49,
   "metadata": {},
   "outputs": [
    {
     "name": "stdout",
     "output_type": "stream",
     "text": [
      "m 1\n"
     ]
    }
   ],
   "source": [
    "#59.\tWAP to count the max repeated character in a given string. \n",
    "a=\"bcklbfmvdm\"\n",
    "b=0\n",
    "f=0\n",
    "g=''\n",
    "c=list(set(a))\n",
    "while b<len(c):\n",
    "    d=0\n",
    "    e=0\n",
    "    while d<len(a):\n",
    "        if a[d]==c[b]:\n",
    "            e+=1\n",
    "        d+=1\n",
    "    if e >= f:\n",
    "        f=e\n",
    "        g=c[b]\n",
    "    b+=1\n",
    "print(g,f-1)\n",
    "\n"
   ]
  },
  {
   "cell_type": "code",
   "execution_count": 50,
   "metadata": {},
   "outputs": [
    {
     "name": "stdout",
     "output_type": "stream",
     "text": [
      "c 0\n"
     ]
    }
   ],
   "source": [
    "#60.\tWAP to count the min repeated character in a given string. \n",
    "a=\"bcklbfmvdm\"\n",
    "b=0\n",
    "f=1\n",
    "g=''\n",
    "c=list(set(a))\n",
    "while b<len(c):\n",
    "    d=0\n",
    "    e=0\n",
    "    while d<len(a):\n",
    "        if a[d]==c[b]:\n",
    "            e+=1\n",
    "        d+=1\n",
    "    if e <= f:\n",
    "        f=e\n",
    "        g=c[b]\n",
    "    b+=1\n",
    "print(g,f-1)\n",
    "\n",
    "\n"
   ]
  },
  {
   "cell_type": "code",
   "execution_count": 51,
   "metadata": {},
   "outputs": [
    {
     "name": "stdout",
     "output_type": "stream",
     "text": [
      "vfcdb,sdniox\n"
     ]
    }
   ],
   "source": [
    "#61.\tWAP to replace a specific character into a new character.\n",
    "a=\"vfcdb,shniox\"\n",
    "b=0\n",
    "c=\"\"\n",
    "while b<len(a):\n",
    "    if a[b]=='h':\n",
    "        c+='d'\n",
    "    else:\n",
    "        c+=a[b]\n",
    "    b+=1\n",
    "print(c)"
   ]
  },
  {
   "cell_type": "code",
   "execution_count": 54,
   "metadata": {},
   "outputs": [
    {
     "name": "stdout",
     "output_type": "stream",
     "text": [
      "VFJHKJKB,SHNIOX\n"
     ]
    }
   ],
   "source": [
    "#62.\tWAP to convert lowercase to uppercase in a given string. \n",
    "a=\"vfJHKJKb,shniox\"\n",
    "b=0\n",
    "c=\"\"\n",
    "while b<len(a):\n",
    "    if 'a'<=a[b]<='z':\n",
    "        c+=chr(ord(a[b])-32)\n",
    "    else:\n",
    "        c+=a[b]\n",
    "    b+=1\n",
    "print(c)"
   ]
  },
  {
   "cell_type": "code",
   "execution_count": 55,
   "metadata": {},
   "outputs": [
    {
     "name": "stdout",
     "output_type": "stream",
     "text": [
      "vfjhkjkb,shniox\n"
     ]
    }
   ],
   "source": [
    "#63.\tWAP to convert uppercase to lowercase in a given string.\n",
    "a=\"vfJHKJKb,shniox\"\n",
    "b=0\n",
    "c=\"\"\n",
    "while b<len(a):\n",
    "    if 'A'<=a[b]<='Z':\n",
    "        c+=chr(ord(a[b])+32)\n",
    "    else:\n",
    "        c+=a[b]\n",
    "    b+=1\n",
    "print(c)"
   ]
  },
  {
   "cell_type": "code",
   "execution_count": 59,
   "metadata": {},
   "outputs": [
    {
     "name": "stdout",
     "output_type": "stream",
     "text": [
      "vdjcv Ckdjs Kjdcjk\n"
     ]
    }
   ],
   "source": [
    "#64.\tWAP to convert title case in a given string.\n",
    "#Every word first letter is capital\n",
    "a=\"vdjcv ckdjs kjdcjk\"\n",
    "b=0\n",
    "c=\"\"\n",
    "while b<len(a):\n",
    "    if a[b]==' ':\n",
    "        c+=a[b]\n",
    "        if 'a'<=a[b+1]<='z':\n",
    "            c+=chr(ord(a[b+1])-32)\n",
    "        b+=1\n",
    "    else:\n",
    "        c+=a[b]\n",
    "    b+=1\n",
    "print(c)\n"
   ]
  },
  {
   "cell_type": "code",
   "execution_count": 2,
   "metadata": {},
   "outputs": [
    {
     "name": "stdout",
     "output_type": "stream",
     "text": [
      "vdjcv_ ckjd_ cjk\n"
     ]
    }
   ],
   "source": [
    "#65.\tWAP to convert snake_case in a given string.\n",
    "#All should be lower case and space should be replaced by '_'\n",
    "a=\"Vdjcv Ckjd cjk\"\n",
    "b=0\n",
    "c=\"\"\n",
    "while b<len(a):\n",
    "    if a[b]==' ':\n",
    "        c+='_'\n",
    "    if 'A'<=a[b]<='Z':\n",
    "        c+=chr(ord(a[b])+32)\n",
    "    else:\n",
    "        c+=a[b]\n",
    "    b+=1\n",
    "print(c)\n"
   ]
  },
  {
   "cell_type": "code",
   "execution_count": 5,
   "metadata": {},
   "outputs": [
    {
     "name": "stdout",
     "output_type": "stream",
     "text": [
      "lower case string\n"
     ]
    }
   ],
   "source": [
    "#66.\tWAP to check whether the given string is lowercase or not. \n",
    "a=\"vdjcvkjdcjk\"\n",
    "b=0\n",
    "c=\"\"\n",
    "while b<len(a):\n",
    "    if 'a'<=a[b]<='z':\n",
    "        c+=a[b]\n",
    "    b+=1\n",
    "if len(c)==len(a):\n",
    "    print(\"lower case string\")\n"
   ]
  },
  {
   "cell_type": "code",
   "execution_count": 2,
   "metadata": {},
   "outputs": [
    {
     "name": "stdout",
     "output_type": "stream",
     "text": [
      "not a string\n"
     ]
    }
   ],
   "source": [
    "#67.WAP to check whether the given number is string or not.\n",
    "a=90430\n",
    "d=a\n",
    "b=''\n",
    "c=0\n",
    "while a!=0:\n",
    "    b1=a%10\n",
    "    b+=str(b1)\n",
    "    a=a//10\n",
    "if b==d:\n",
    "    print(\"it is a string\")\n",
    "else:\n",
    "    print(\"not a string\")\n"
   ]
  },
  {
   "cell_type": "code",
   "execution_count": 5,
   "metadata": {},
   "outputs": [
    {
     "name": "stdout",
     "output_type": "stream",
     "text": [
      "<class 'int'>\n",
      "<class 'float'>\n",
      "<class 'bool'>\n",
      "<class 'complex'>\n",
      "<class 'str'>\n",
      "<class 'bytes'>\n",
      "<class 'list'>\n",
      "<class 'tuple'>\n",
      "<class 'set'>\n",
      "<class 'dict'>\n"
     ]
    }
   ],
   "source": [
    "#68.\tWAP to print the data items in a given list.\n",
    "a=[int,float,bool,complex,str,bytes,list,tuple,set,dict]\n",
    "b=0\n",
    "while b<len(a):\n",
    "    print(a[b])\n",
    "    b+=1\n"
   ]
  },
  {
   "cell_type": "code",
   "execution_count": 17,
   "metadata": {},
   "outputs": [
    {
     "name": "stdout",
     "output_type": "stream",
     "text": [
      "['dict', 'set', 'tuple', 'list', 'bytes', 'str', 'complex', 'bool', 'float', 'int']\n"
     ]
    }
   ],
   "source": [
    "#69.\tWAP to reverse the data items in a given list.\n",
    "a=['int','float','bool','complex','str','bytes','list','tuple','set','dict']\n",
    "b=0\n",
    "c=[]\n",
    "while b<len(a):\n",
    "    c=[a[b]]+c\n",
    "    b+=1\n",
    "print(c)\n"
   ]
  },
  {
   "cell_type": "code",
   "execution_count": 21,
   "metadata": {},
   "outputs": [
    {
     "name": "stdout",
     "output_type": "stream",
     "text": [
      "[10, 90.8, (50+5j), b'0101', True]\n"
     ]
    }
   ],
   "source": [
    "#70.\tWAP to extract and store the single value data types in a given list. (store the values in list)\n",
    "a=[10,90.8,50+5j,b'0101',True,'hgh',(40,'dh'),{50,90},{'a':90,'b':'pl'}]\n",
    "b=0\n",
    "c=[]\n",
    "while b<len(a):\n",
    "    if type(a[b]) in [int,bool,float,complex,bytes]:\n",
    "        c+=[a[b]]\n",
    "    b+=1\n",
    "print(c)\n"
   ]
  },
  {
   "cell_type": "code",
   "execution_count": 24,
   "metadata": {},
   "outputs": [
    {
     "name": "stdout",
     "output_type": "stream",
     "text": [
      "('hgh', (40, 'dh'), {50, 90}, {'a': 90, 'b': 'pl'})\n"
     ]
    }
   ],
   "source": [
    "#71 WAP to extract and store the multi value data types in a given list. (store the values in tuple)\n",
    "a=[10,90.8,50+5j,b'0101',True,'hgh',(40,'dh'),{50,90},{'a':90,'b':'pl'}]\n",
    "b=0\n",
    "c=[]\n",
    "while b<len(a):\n",
    "    if type(a[b]) not in [int,bool,float,complex,bytes]:\n",
    "        c+=[a[b]]\n",
    "    b+=1\n",
    "c=tuple(c)\n",
    "print(c)\n"
   ]
  },
  {
   "cell_type": "code",
   "execution_count": 40,
   "metadata": {},
   "outputs": [
    {
     "ename": "TypeError",
     "evalue": "unhashable type: 'set'",
     "output_type": "error",
     "traceback": [
      "\u001b[1;31m---------------------------------------------------------------------------\u001b[0m",
      "\u001b[1;31mTypeError\u001b[0m                                 Traceback (most recent call last)",
      "Cell \u001b[1;32mIn[40], line 9\u001b[0m\n\u001b[0;32m      7\u001b[0m         c\u001b[39m+\u001b[39m\u001b[39m=\u001b[39m[a[b]]\n\u001b[0;32m      8\u001b[0m     b\u001b[39m+\u001b[39m\u001b[39m=\u001b[39m\u001b[39m1\u001b[39m\n\u001b[1;32m----> 9\u001b[0m c\u001b[39m=\u001b[39m\u001b[39mset\u001b[39;49m(c)\n\u001b[0;32m     10\u001b[0m \u001b[39mprint\u001b[39m(c)\n",
      "\u001b[1;31mTypeError\u001b[0m: unhashable type: 'set'"
     ]
    }
   ],
   "source": [
    "#72.\tWAP to extract and store the mutable values data types in a given list. (store the values in set)\n",
    "a=[10,90.8,50+5j,b'0101',True,'hgh',(40,'dh'),{50,90},{'a':90,'b':'pl'},[10,20,60]]\n",
    "b=0\n",
    "c=[]\n",
    "while b<len(a):\n",
    "    if type(a[b]) in[list,set,dict]:\n",
    "        c+=[a[b]]\n",
    "    b+=1\n",
    "c=set(c)\n",
    "print(c)\n",
    "#storing the mutable data types in set is not possible\n"
   ]
  },
  {
   "cell_type": "code",
   "execution_count": 36,
   "metadata": {},
   "outputs": [
    {
     "name": "stdout",
     "output_type": "stream",
     "text": [
      "(10, 90.8, (50+5j), b'0101', True, 'hgh', (40, 'dh'), {50, 90})\n"
     ]
    }
   ],
   "source": [
    "#73.\tWAP to extract and store the immutable value data types in a given list. (store the values in tuple)\n",
    "a=[10,90.8,50+5j,b'0101',True,'hgh',(40,'dh'),{50,90},{'a':90,'b':'pl'}]\n",
    "b=0\n",
    "c=[]\n",
    "while b<len(a):\n",
    "    if type(a[b])  in [int,bool,float,complex,bytes,tuple,set,str]:\n",
    "        c+=[a[b]]\n",
    "    b+=1\n",
    "c=tuple(c)\n",
    "print(c)\n"
   ]
  },
  {
   "cell_type": "code",
   "execution_count": 41,
   "metadata": {},
   "outputs": [
    {
     "name": "stdout",
     "output_type": "stream",
     "text": [
      "['hgh', 'tdy']\n"
     ]
    }
   ],
   "source": [
    "#74.\tWAP to extract and store the string value in a given list. (store the values in list)\n",
    "a=[10,90.8,50+5j,b'0101',True,'hgh',(40,'dh'),{50,90},{'a':90,'b':'pl'},'tdy']\n",
    "b=0\n",
    "c=[]\n",
    "while b<len(a):\n",
    "    if type(a[b])  in [str]:\n",
    "        c+=[a[b]]\n",
    "    b+=1\n",
    "print(c)\n"
   ]
  },
  {
   "cell_type": "code",
   "execution_count": 43,
   "metadata": {},
   "outputs": [
    {
     "name": "stdout",
     "output_type": "stream",
     "text": [
      "3\n"
     ]
    }
   ],
   "source": [
    "#75.\twap count the number of sub same collections in a main collection.ip= [1,2,3, [1,2],[2,5]] op:2\n",
    "a=[90,90.98,[89,889],[998],776,[90,'ghs']]\n",
    "b=0\n",
    "c=0\n",
    "while b<len(a):\n",
    "    if type(a)==type(a[b]):\n",
    "        c+=1\n",
    "    b+=1\n",
    "print(c)"
   ]
  },
  {
   "cell_type": "code",
   "execution_count": 46,
   "metadata": {},
   "outputs": [
    {
     "name": "stdout",
     "output_type": "stream",
     "text": [
      "{'even': 5, 'odd': 6}\n"
     ]
    }
   ],
   "source": [
    "#76.\tWap to count the number of even and odd numbers is given a list. i/p:[1,8,9,7,25,26,98,75,74,36,15] o/p:{'even':5,'odd':6}\n",
    "a=[1,8,9,7,25,26,98,75,74,36,15]\n",
    "b=0\n",
    "c=0\n",
    "e={}\n",
    "d=0\n",
    "while b<len(a):\n",
    "    if type(a[b]) == int:\n",
    "        if a[b]%2==0:\n",
    "            c+=1\n",
    "        else:\n",
    "            d+=1\n",
    "    b+=1\n",
    "e['even']=c\n",
    "e['odd']=d\n",
    "print(e)\n",
    "\n"
   ]
  },
  {
   "cell_type": "code",
   "execution_count": 12,
   "metadata": {},
   "outputs": [
    {
     "name": "stdout",
     "output_type": "stream",
     "text": [
      "{'python.edu', 'google.com', 'youtube.com', 'facebook.in'}\n",
      "{6: ['python', 'google'], 7: ['youtube'], 8: ['facebook']}\n"
     ]
    }
   ],
   "source": [
    "#77.\twapli={'google.com','facebook.in','python.edu','youtube.com'} op:{'6':['google','python'],'7':['youtube'],'8':['facebook']}\n",
    "a={'google.com','facebook.in','python.edu','youtube.com'}\n",
    "a=str(a)\n",
    "print(a)\n",
    "b=''\n",
    "d={}\n",
    "c=0\n",
    "while c<len(a):\n",
    "    if 'a'<=a[c]<='z' or 'A'<=a[c]<='Z':\n",
    "        b+=a[c]\n",
    "    if a[c]=='.':\n",
    "        if len(b) in d:\n",
    "            d[len(b)]+=[b]\n",
    "        else:\n",
    "            d[len(b)]=[b]\n",
    "    if a[c]==',':\n",
    "        b=''\n",
    "    c+=1\n",
    "if len(b) in d and b!=0:\n",
    "    d[len(b)]+=[b]\n",
    "else:\n",
    "    d[len(b)]=[b]\n",
    "print(d)\n",
    "\n",
    "\n"
   ]
  },
  {
   "cell_type": "code",
   "execution_count": 15,
   "metadata": {},
   "outputs": [
    {
     "name": "stdout",
     "output_type": "stream",
     "text": [
      "{'python.edu', 'google.com', 'youtube.com', 'facebook.in'}\n",
      "{3: ['edu', 'com', 'com'], 2: ['in']}\n"
     ]
    }
   ],
   "source": [
    "#78.\twapli={'google.com','facebook.in','python.edu','youtube.com'} op=[['com',2],['in',1],['edu',1]]\n",
    "a={'google.com','facebook.in','python.edu','youtube.com'}\n",
    "a=str(a)\n",
    "print(a)\n",
    "b=''\n",
    "d={}\n",
    "c=0\n",
    "while c<len(a):\n",
    "    if 'a'<=a[c]<='z' or 'A'<=a[c]<='Z':\n",
    "        b+=a[c]\n",
    "    if a[c]==',':\n",
    "        if len(b) in d:\n",
    "            d[len(b)]+=[b]\n",
    "        else:\n",
    "            d[len(b)]=[b]\n",
    "    if a[c]=='.':\n",
    "        b=''\n",
    "    c+=1\n",
    "if len(b) in d and b!=0:\n",
    "    d[len(b)]+=[b]\n",
    "else:\n",
    "    d[len(b)]=[b]\n",
    "    \n",
    "print(d)\n",
    "\n",
    "\n",
    "\n"
   ]
  },
  {
   "cell_type": "code",
   "execution_count": 18,
   "metadata": {},
   "outputs": [
    {
     "name": "stdout",
     "output_type": "stream",
     "text": [
      "('reerac', 'ruoy', 'tseb', 'eht', 'lla', 'sredipsyp', 'ot', 'emoclew')\n"
     ]
    }
   ],
   "source": [
    "#79.\twapst='welcome to pyspiders all the best your career ' op=('reerac','ruoy','tseb','eth','lla','sredipsys','ot','emoclew')\n",
    "a='welcome to pyspiders all the best your career '\n",
    "b=''\n",
    "d=()\n",
    "c=0\n",
    "while c<len(a):\n",
    "    if a[c]!=' ':\n",
    "        b+=a[c]\n",
    "    else:\n",
    "        b=b[::-1]\n",
    "        d=(b,)+d\n",
    "        b=''\n",
    "    c+=1\n",
    "print(d)    \n"
   ]
  },
  {
   "cell_type": "code",
   "execution_count": 26,
   "metadata": {},
   "outputs": [
    {
     "name": "stdout",
     "output_type": "stream",
     "text": [
      "('welcome', 'ot', 'pyspiders', 'lla', 'the', 'tseb', 'your', 'reerac', 'built')\n"
     ]
    }
   ],
   "source": [
    "#80.\twapst='welcome to pyspiders all the best your career' op:('welcome','ot','pyspiders','lla','the','tesb','your','reerac')\n",
    "a='welcome to pyspiders all the best your career built'\n",
    "b=''\n",
    "d=()\n",
    "c=0\n",
    "e=0\n",
    "while c<len(a):\n",
    "    if a[c]!=' ':\n",
    "        b+=a[c]\n",
    "    else:\n",
    "        e+=1\n",
    "        if e%2!=0:\n",
    "            d+=(b,)\n",
    "        else:\n",
    "            b=b[::-1]\n",
    "            d+=(b,)\n",
    "        b=''\n",
    "    c+=1\n",
    "if len(b)!=0 and e%2==0:\n",
    "    d+=(b,)\n",
    "else:\n",
    "    b=b[::-1]\n",
    "    d+=(b,)\n",
    "print(d)"
   ]
  },
  {
   "cell_type": "code",
   "execution_count": 31,
   "metadata": {},
   "outputs": [
    {
     "name": "stdout",
     "output_type": "stream",
     "text": [
      "{'65': 1, '67': 2, '90': 6, '97': 24, '99': 120, '100': 720}\n"
     ]
    }
   ],
   "source": [
    "#81.\twap\n",
    "#li=('A','C','Z','a','c','d')\n",
    "#op:{'65':1,'67':2,'90':6,'97':24,'99':120,'100':720}\n",
    "a=('A','C','Z','a','c','d')\n",
    "b=[1,2,6,24,120,720]\n",
    "c=0\n",
    "d={}\n",
    "while c<len(a):\n",
    "    d[str(ord(a[c]))]=b[c]\n",
    "    if d[str(ord(a[c]))] in d:\n",
    "        d[str(ord(a[c]))]+=b[c]\n",
    "    else:\n",
    "        d[str(ord(a[c]))]=b[c]\n",
    "    c+=1\n",
    "print(d)\n"
   ]
  },
  {
   "cell_type": "code",
   "execution_count": 36,
   "metadata": {},
   "outputs": [
    {
     "name": "stdout",
     "output_type": "stream",
     "text": [
      "eoo123aii\n"
     ]
    }
   ],
   "source": [
    "#82.\tI/p: ‘hello world 123 haii’ o/p:’eoo123aii’\n",
    "a='hello world 123 haii'\n",
    "b=''\n",
    "c=0\n",
    "while c<len(a):\n",
    "    if 'a'<=a[c]<='z' or 'A'<=a[c]<='Z':\n",
    "        if a[c] in 'AEIOUaeiou':\n",
    "            b+=a[c]\n",
    "    elif a[c]!=' ':\n",
    "        b+=a[c]\n",
    "    c+=1\n",
    "print(b)\n",
    "\n"
   ]
  },
  {
   "cell_type": "code",
   "execution_count": 37,
   "metadata": {},
   "outputs": [
    {
     "name": "stdout",
     "output_type": "stream",
     "text": [
      "eo o 123 aii\n"
     ]
    }
   ],
   "source": [
    "#83I/p: ‘hello world 123 haii’ o/p:’eo o 123 aii’\n",
    "a='hello world 123 haii'\n",
    "b=''\n",
    "c=0\n",
    "while c<len(a):\n",
    "    if 'a'<=a[c]<='z' or 'A'<=a[c]<='Z':\n",
    "        if a[c] in 'AEIOUaeiou':\n",
    "            b+=a[c]\n",
    "    else:\n",
    "        b+=a[c]\n",
    "    c+=1\n",
    "print(b)\n",
    "\n",
    "\n"
   ]
  },
  {
   "cell_type": "code",
   "execution_count": 40,
   "metadata": {},
   "outputs": [
    {
     "name": "stdout",
     "output_type": "stream",
     "text": [
      "eo o  aii\n"
     ]
    }
   ],
   "source": [
    "#84 I/p: ‘hello world 123 haii’ o/p:’eo o  aii’\n",
    "a='hello world 123 haii'\n",
    "b=''\n",
    "c=0\n",
    "while c<len(a):\n",
    "    if 'a'<=a[c]<='z' or 'A'<=a[c]<='Z' or a[c]==' ':\n",
    "        if a[c] in 'AEIOUaeiou ':\n",
    "            b+=a[c]\n",
    "    c+=1\n",
    "print(b)\n",
    "\n",
    "\n"
   ]
  },
  {
   "cell_type": "code",
   "execution_count": 48,
   "metadata": {},
   "outputs": [
    {
     "name": "stdout",
     "output_type": "stream",
     "text": [
      "hll world  haii\n"
     ]
    }
   ],
   "source": [
    "#85 I/p: ‘hello world 123 haii’ o/p:’hll world  haii’\n",
    "a='hello world 123 haii'\n",
    "b=''\n",
    "d=0\n",
    "c=0\n",
    "while c<len(a):\n",
    "    if 'a'<=a[c]<='z' or 'A'<=a[c]<='Z' or a[c]==' ':\n",
    "        if a[c]==' ':\n",
    "            d+=1\n",
    "        if d==0:\n",
    "            if a[c] not in 'AEIOUaeiou':\n",
    "                b+=a[c]\n",
    "        else:\n",
    "            b+=a[c]\n",
    "    c+=1\n",
    "print(b)\n",
    "\n",
    "\n"
   ]
  },
  {
   "cell_type": "code",
   "execution_count": 49,
   "metadata": {},
   "outputs": [
    {
     "name": "stdout",
     "output_type": "stream",
     "text": [
      "eoo\n",
      "hll wrld\n"
     ]
    }
   ],
   "source": [
    "#86 i/p:’hello world’ o/p:’hll wrld’ o/p:’eoo’\n",
    "a='hello world'\n",
    "b=''\n",
    "d=''\n",
    "c=0\n",
    "while c<len(a):\n",
    "    if 'a'<=a[c]<='z' or 'A'<=a[c]<='Z' or a[c]==' ':\n",
    "        if a[c] in 'aeiouAEIOU':\n",
    "            b+=a[c]\n",
    "        else:\n",
    "            d+=a[c]\n",
    "    c+=1\n",
    "print(b)\n",
    "print(d)"
   ]
  },
  {
   "cell_type": "code",
   "execution_count": 51,
   "metadata": {},
   "outputs": [
    {
     "name": "stdout",
     "output_type": "stream",
     "text": [
      "eoo\n",
      "hll wrld\n",
      "12344\n"
     ]
    }
   ],
   "source": [
    "#87 i/p:’12hello3 4world4’\n",
    "#o/p:’hll wrld’ o/p:’eoo’ o/p:’12344’\n",
    "a='12hello3 4world4'\n",
    "b=''\n",
    "d=''\n",
    "e=''\n",
    "c=0\n",
    "while c<len(a):\n",
    "    if 'a'<=a[c]<='z' or 'A'<=a[c]<='Z' or a[c]==' ':\n",
    "        if a[c] in 'aeiouAEIOU':\n",
    "            b+=a[c]\n",
    "        else:\n",
    "            d+=a[c]\n",
    "    if '0'<=a[c]<='9':\n",
    "        e+=a[c]\n",
    "    c+=1\n",
    "print(b)\n",
    "print(d)\n",
    "print(e)"
   ]
  },
  {
   "cell_type": "code",
   "execution_count": 54,
   "metadata": {},
   "outputs": [
    {
     "name": "stdout",
     "output_type": "stream",
     "text": [
      "eoo\n",
      "hllwrld\n",
      "12344\n",
      "(*$ $#*)\n"
     ]
    }
   ],
   "source": [
    "#88 i/p:’(*12hello3$ $4#world4*)’ o/p:’hllwrld’ o/p:’eoo’ o/p:’12344’ o/p:’(*$ $#*)\n",
    "a='(*12hello3$ $4#world4*)'\n",
    "b=''\n",
    "d=''\n",
    "e=''\n",
    "f=''\n",
    "c=0\n",
    "while c<len(a):\n",
    "    if 'a'<=a[c]<='z' or 'A'<=a[c]<='Z':\n",
    "        if a[c] in 'aeiouAEIOU':\n",
    "            b+=a[c]\n",
    "        else:\n",
    "            d+=a[c]\n",
    "    elif '0'<=a[c]<='9':\n",
    "        e+=a[c]\n",
    "    else:\n",
    "        f+=a[c]\n",
    "    c+=1\n",
    "print(b)\n",
    "print(d)\n",
    "print(e)\n",
    "print(f)"
   ]
  },
  {
   "cell_type": "code",
   "execution_count": 63,
   "metadata": {},
   "outputs": [
    {
     "name": "stdout",
     "output_type": "stream",
     "text": [
      ")*#$ $*(,44321,ooe,dlrwllh\n"
     ]
    }
   ],
   "source": [
    "#89 i/p: ’(*12hello3$ $4#world4*)’ o/p: ')*#$ $*(,44321,ooe,dlrwllh'\n",
    "a='(*12hello3$ $4#world4*)'\n",
    "b=''\n",
    "d=''\n",
    "e=''\n",
    "f=''\n",
    "g=''\n",
    "c=0\n",
    "while c<len(a):\n",
    "    if 'a'<=a[c]<='z' or 'A'<=a[c]<='Z':\n",
    "        if a[c] in 'aeiouAEIOU':\n",
    "            b+=a[c]\n",
    "        else:\n",
    "            d+=a[c]\n",
    "    elif '0'<=a[c]<='9':\n",
    "        e+=a[c]\n",
    "    else:\n",
    "        f+=a[c]\n",
    "    c+=1\n",
    "g=f[::-1]+','+e[::-1]+','+b[::-1]+','+d[::-1]\n",
    "print(g)"
   ]
  },
  {
   "cell_type": "code",
   "execution_count": 61,
   "metadata": {},
   "outputs": [
    {
     "name": "stdout",
     "output_type": "stream",
     "text": [
      "hllwrld,eoo,12344,(*$ $#*)\n"
     ]
    }
   ],
   "source": [
    "#90i/p:’(*12hello3$ $4#world4*)’ o/p:’hllwrld,eoo,12344,(*$ $#*)’\n",
    "b=''\n",
    "d=''\n",
    "e=''\n",
    "f=''\n",
    "g=''\n",
    "c=0\n",
    "while c<len(a):\n",
    "    if 'a'<=a[c]<='z' or 'A'<=a[c]<='Z':\n",
    "        if a[c] in 'aeiouAEIOU':\n",
    "            b+=a[c]\n",
    "        else:\n",
    "            d+=a[c]\n",
    "    elif '0'<=a[c]<='9':\n",
    "        e+=a[c]\n",
    "    else:\n",
    "        f+=a[c]\n",
    "    c+=1\n",
    "g=d+','+b+','+e+','+f\n",
    "print(g)"
   ]
  },
  {
   "cell_type": "code",
   "execution_count": 64,
   "metadata": {},
   "outputs": [
    {
     "name": "stdout",
     "output_type": "stream",
     "text": [
      "hllwrld,)*#$ $*(,eoo,44321\n"
     ]
    }
   ],
   "source": [
    "#91 i/p: ’(*12hello3$ $4#world4*)’ o/p:’,hllwrld,)*#$ $*(’,eoo,44321’\n",
    "b=''\n",
    "d=''\n",
    "e=''\n",
    "f=''\n",
    "g=''\n",
    "c=0\n",
    "while c<len(a):\n",
    "    if 'a'<=a[c]<='z' or 'A'<=a[c]<='Z':\n",
    "        if a[c] in 'aeiouAEIOU':\n",
    "            b+=a[c]\n",
    "        else:\n",
    "            d+=a[c]\n",
    "    elif '0'<=a[c]<='9':\n",
    "        e+=a[c]\n",
    "    else:\n",
    "        f+=a[c]\n",
    "    c+=1\n",
    "g=d+','+f[::-1]+','+b+','+e[::-1]\n",
    "print(g)"
   ]
  },
  {
   "cell_type": "code",
   "execution_count": 65,
   "metadata": {},
   "outputs": [
    {
     "name": "stdout",
     "output_type": "stream",
     "text": [
      ")*#$ $*(,44321,ooe,dlrwllh\n"
     ]
    }
   ],
   "source": [
    "#92 i/p: ’(*12hello3$ $4#world4*)’ o/p: ')*#$ $*(,44321,ooe,dlrwllh'\n",
    "b=''\n",
    "d=''\n",
    "e=''\n",
    "f=''\n",
    "g=''\n",
    "c=0\n",
    "while c<len(a):\n",
    "    if 'a'<=a[c]<='z' or 'A'<=a[c]<='Z':\n",
    "        if a[c] in 'aeiouAEIOU':\n",
    "            b+=a[c]\n",
    "        else:\n",
    "            d+=a[c]\n",
    "    elif '0'<=a[c]<='9':\n",
    "        e+=a[c]\n",
    "    else:\n",
    "        f+=a[c]\n",
    "    c+=1\n",
    "g=f[::-1]+','+e[::-1]+','+b[::-1]+','+d[::-1]\n",
    "print(g)"
   ]
  },
  {
   "cell_type": "code",
   "execution_count": 66,
   "metadata": {},
   "outputs": [
    {
     "name": "stdout",
     "output_type": "stream",
     "text": [
      "dlrwllh)*#$ $*(ooe44321\n"
     ]
    }
   ],
   "source": [
    "#93 /p: ’(*12hello3$ $4#world4*)’ o/p:’dlrwllh)*#$ $*(ooe44321’\n",
    "b=''\n",
    "d=''\n",
    "e=''\n",
    "f=''\n",
    "g=''\n",
    "c=0\n",
    "while c<len(a):\n",
    "    if 'a'<=a[c]<='z' or 'A'<=a[c]<='Z':\n",
    "        if a[c] in 'aeiouAEIOU':\n",
    "            b+=a[c]\n",
    "        else:\n",
    "            d+=a[c]\n",
    "    elif '0'<=a[c]<='9':\n",
    "        e+=a[c]\n",
    "    else:\n",
    "        f+=a[c]\n",
    "    c+=1\n",
    "g=d[::-1]+f[::-1]+b[::-1]+e[::-1]\n",
    "print(g)"
   ]
  },
  {
   "cell_type": "code",
   "execution_count": 70,
   "metadata": {},
   "outputs": [
    {
     "name": "stdout",
     "output_type": "stream",
     "text": [
      "h$ll*w*rld\n"
     ]
    }
   ],
   "source": [
    "#94 I/p:’HELLOWORLD’o/p:’h$ll*w*rld’\n",
    "a='HELLOWORLD'\n",
    "b=''\n",
    "c=0\n",
    "while c<len(a):\n",
    "    if 'A'<=a[c]<='Z':\n",
    "        if a[c] in 'Ee':\n",
    "            b+='$'\n",
    "            c+=1\n",
    "        if a[c] in 'oO':\n",
    "            b+='*'\n",
    "            c+=1\n",
    "        b+=chr(ord(a[c])+32)\n",
    "    c+=1\n",
    "print(b)\n"
   ]
  },
  {
   "cell_type": "code",
   "execution_count": 83,
   "metadata": {},
   "outputs": [
    {
     "name": "stdout",
     "output_type": "stream",
     "text": [
      "hllwrld21\n"
     ]
    }
   ],
   "source": [
    "#95.\n",
    "#I/p:’123HELLO WORLD456’\n",
    "#o/p:’hllwrld21’\n",
    "a='123HELLO WORLD456'\n",
    "b=''\n",
    "d=''\n",
    "c=0\n",
    "while c<len(a):\n",
    "    if a[c]   in 'EeoO ':\n",
    "        c+=1\n",
    "    elif a[c] in '12':\n",
    "        d+=a[c]\n",
    "    if 'A'<=a[c]<='Z':\n",
    "         b+=chr(ord(a[c])+32)\n",
    "    c+=1\n",
    "print(b+d[::-1])\n"
   ]
  },
  {
   "cell_type": "code",
   "execution_count": 87,
   "metadata": {},
   "outputs": [
    {
     "name": "stdout",
     "output_type": "stream",
     "text": [
      "123hEllO wOrld456\n"
     ]
    }
   ],
   "source": [
    "#96.#I/p:’123HELLO WORLD456’\n",
    "#o/p:’123hEllO wOrld456’\n",
    "a='123HELLO WORLD456'\n",
    "b=''\n",
    "c=0\n",
    "while c<len(a):\n",
    "    if 'A'<=a[c]<='Z':\n",
    "        if a[c] not in \"AEIOU\":\n",
    "            b+=chr(ord(a[c])+32)\n",
    "        else:\n",
    "            b+=a[c]\n",
    "    else:\n",
    "        b+=a[c]\n",
    "    c+=1\n",
    "print(b)"
   ]
  },
  {
   "cell_type": "code",
   "execution_count": 89,
   "metadata": {},
   "outputs": [
    {
     "name": "stdout",
     "output_type": "stream",
     "text": [
      "321hEllO wOrld654\n"
     ]
    }
   ],
   "source": [
    "#97 #I/p:’123HELLO WORLD456’\n",
    "#o/p:’321hEllO wOrld654’\n",
    "a='123HELLO WORLD456'\n",
    "b=''\n",
    "d=''\n",
    "c=0\n",
    "while c<len(a):\n",
    "    if 'A'<=a[c]<='Z':\n",
    "        b+=d\n",
    "        d=''\n",
    "        if a[c] not in \"AEIOU\":\n",
    "            b+=chr(ord(a[c])+32)\n",
    "        else:\n",
    "            b+=a[c]\n",
    "    else:\n",
    "        d=a[c]+d\n",
    "    c+=1\n",
    "if len(d) !=0:\n",
    "    b+=d\n",
    "print(b)"
   ]
  },
  {
   "cell_type": "code",
   "execution_count": 90,
   "metadata": {},
   "outputs": [
    {
     "name": "stdout",
     "output_type": "stream",
     "text": [
      "321*E**O *O***654\n"
     ]
    }
   ],
   "source": [
    "#98 #I/p:’123HELLO WORLD456’\n",
    "#o/p:’321*E**O *O***654’\n",
    "a='123HELLO WORLD456'\n",
    "b=''\n",
    "d=''\n",
    "c=0\n",
    "while c<len(a):\n",
    "    if 'A'<=a[c]<='Z':\n",
    "        b+=d\n",
    "        d=''\n",
    "        if a[c] not in \"AEIOU\":\n",
    "            b+='*'\n",
    "        else:\n",
    "            b+=a[c]\n",
    "    else:\n",
    "        d=a[c]+d\n",
    "    c+=1\n",
    "if len(d) !=0:\n",
    "    b+=d\n",
    "print(b)"
   ]
  },
  {
   "cell_type": "code",
   "execution_count": 91,
   "metadata": {},
   "outputs": [
    {
     "name": "stdout",
     "output_type": "stream",
     "text": [
      "123*E**O *O***456\n"
     ]
    }
   ],
   "source": [
    "#99 ’123HELLO WORLD456’\n",
    "#o/p:’123*E**O *O***456’\n",
    "a='123HELLO WORLD456'\n",
    "b=''\n",
    "d=''\n",
    "c=0\n",
    "while c<len(a):\n",
    "    if 'A'<=a[c]<='Z':\n",
    "        b+=d\n",
    "        d=''\n",
    "        if a[c] not in \"AEIOU\":\n",
    "            b+='*'\n",
    "        else:\n",
    "            b+=a[c]\n",
    "    else:\n",
    "        d+=a[c]\n",
    "    c+=1\n",
    "if len(d) !=0:\n",
    "    b+=d\n",
    "print(b)"
   ]
  },
  {
   "cell_type": "code",
   "execution_count": 93,
   "metadata": {},
   "outputs": [
    {
     "name": "stdout",
     "output_type": "stream",
     "text": [
      "['PYTHON', 'SCRIPTING', 'PROGRAMMING', 'LANGUAGE']\n"
     ]
    }
   ],
   "source": [
    "#100 I/p:'PYTHON SCRIPTING PROGRAMMING LANGUAGE' o/p:['PYTHON’,’SCRIPTING’, ‘PROGRAMMING’,’ LANGUAGE']\n",
    "a='PYTHON SCRIPTING PROGRAMMING LANGUAGE'\n",
    "b=''\n",
    "d=[]\n",
    "c=0\n",
    "while c<len(a):\n",
    "    if a[c] != ' ':\n",
    "        b+=a[c]\n",
    "    else:\n",
    "        d+=[b]\n",
    "        b=''\n",
    "    c+=1\n",
    "if len(b) !=0:\n",
    "    d+=[b]\n",
    "print(d)"
   ]
  },
  {
   "cell_type": "code",
   "execution_count": 94,
   "metadata": {},
   "outputs": [
    {
     "name": "stdout",
     "output_type": "stream",
     "text": [
      "['nohtyp', 'scripting', 'gnimmargorp', 'language']\n"
     ]
    }
   ],
   "source": [
    "#101 I/p:'PYTHON SCRIPTING PROGRAMMING LANGUAGE'\n",
    "#o/p:['nothyp', 'scripting','gnimmargorp', 'language']\n",
    "a='PYTHON SCRIPTING PROGRAMMING LANGUAGE'\n",
    "b=''\n",
    "d=[]\n",
    "e=0\n",
    "c=0\n",
    "while c<len(a):\n",
    "    if a[c] != ' ':\n",
    "        if e%2!=0:\n",
    "            b+=chr(ord(a[c])+32)\n",
    "        else:\n",
    "            b=chr(ord(a[c])+32)+b\n",
    "    else:\n",
    "        d+=[b]\n",
    "        b=''\n",
    "        e+=1\n",
    "    c+=1\n",
    "if len(b) !=0:\n",
    "    d+=[b]\n",
    "print(d)"
   ]
  },
  {
   "cell_type": "code",
   "execution_count": 95,
   "metadata": {},
   "outputs": [
    {
     "name": "stdout",
     "output_type": "stream",
     "text": [
      "h$ll*w*rld\n"
     ]
    }
   ],
   "source": [
    "#102 I/p:’HELLOWORLD’\n",
    "#o/p:’h$ll*w*rld’\n",
    "a='HELLOWORLD'\n",
    "b=''\n",
    "c=0\n",
    "while c<len(a):\n",
    "    if 'A'<=a[c]<='Z':\n",
    "        if a[c] in 'Ee':\n",
    "            b+='$'\n",
    "            c+=1\n",
    "        if a[c] in 'oO':\n",
    "            b+='*'\n",
    "            c+=1\n",
    "        b+=chr(ord(a[c])+32)\n",
    "    c+=1\n",
    "print(b)\n"
   ]
  },
  {
   "cell_type": "code",
   "execution_count": 98,
   "metadata": {},
   "outputs": [
    {
     "name": "stdout",
     "output_type": "stream",
     "text": [
      "axbycz\n"
     ]
    }
   ],
   "source": [
    "#103 i/p: ‘abc’ i/p: ‘xyz’ o/p:’axbycz’\n",
    "a='abc'\n",
    "b='xyz'\n",
    "c=''\n",
    "d=0\n",
    "while d<len(a):\n",
    "    c+=a[d]+b[d]\n",
    "    d+=1\n",
    "print(c)"
   ]
  },
  {
   "cell_type": "code",
   "execution_count": 107,
   "metadata": {},
   "outputs": [
    {
     "name": "stdout",
     "output_type": "stream",
     "text": [
      "axbyczw\n"
     ]
    }
   ],
   "source": [
    "#104 i/p: ‘abc’ i/p: ‘xyzw’ o/p:’axbyczw’\n",
    "a='abc'\n",
    "b='xyzw'\n",
    "c=''\n",
    "e=0\n",
    "if len(a)>len(b):\n",
    "    e=len(a)\n",
    "else:\n",
    "    e=len(b)\n",
    "d=0\n",
    "while d<e:\n",
    "    if d<len(a):\n",
    "        c+=a[d]+b[d]\n",
    "    else:\n",
    "        c+=b[d]\n",
    "    d+=1\n",
    "print(c)"
   ]
  },
  {
   "cell_type": "code",
   "execution_count": 110,
   "metadata": {},
   "outputs": [
    {
     "name": "stdout",
     "output_type": "stream",
     "text": [
      "axbyczd\n"
     ]
    }
   ],
   "source": [
    "#105 i/p: ‘abcd’ i/p: ‘xyz’ o/p:’axbyczd’\n",
    "a='abcd'\n",
    "b='xyz'\n",
    "c=''\n",
    "e=0\n",
    "if len(a)>len(b):\n",
    "    e=len(a)\n",
    "else:\n",
    "    e=len(b)\n",
    "d=0\n",
    "while d<e:\n",
    "    if d<len(b):\n",
    "        c+=a[d]+b[d]\n",
    "    else:\n",
    "        c+=a[d]\n",
    "    d+=1\n",
    "print(c)"
   ]
  },
  {
   "cell_type": "code",
   "execution_count": 111,
   "metadata": {},
   "outputs": [
    {
     "name": "stdout",
     "output_type": "stream",
     "text": [
      "axbyczwop\n"
     ]
    }
   ],
   "source": [
    "#106 i/p: ‘abc’ i/p: ‘xyzwop’ o/p:’axbyczwop’\n",
    "a='abc'\n",
    "b='xyzwop'\n",
    "c=''\n",
    "e=0\n",
    "if len(a)>len(b):\n",
    "    e=len(a)\n",
    "else:\n",
    "    e=len(b)\n",
    "d=0\n",
    "while d<e:\n",
    "    if d<len(a):\n",
    "        c+=a[d]+b[d]\n",
    "    else:\n",
    "        c+=b[d]\n",
    "    d+=1\n",
    "print(c)"
   ]
  },
  {
   "cell_type": "code",
   "execution_count": 112,
   "metadata": {},
   "outputs": [
    {
     "name": "stdout",
     "output_type": "stream",
     "text": [
      "a1b2c3\n"
     ]
    }
   ],
   "source": [
    "#107 i/p:’abc123’ o/p:’a1b2c3’\n",
    "a='abc123'\n",
    "b=''\n",
    "d=''\n",
    "e=''\n",
    "c=0\n",
    "while c<len(a):\n",
    "    if 'a'<=a[c]<='z':\n",
    "        b+=a[c]\n",
    "    else:\n",
    "        d+=a[c]\n",
    "    c+=1\n",
    "f=0\n",
    "while f<len(b):\n",
    "    e+=b[f]+d[f]\n",
    "    f+=1\n",
    "print(e)"
   ]
  },
  {
   "cell_type": "code",
   "execution_count": 116,
   "metadata": {},
   "outputs": [
    {
     "name": "stdout",
     "output_type": "stream",
     "text": [
      "a1b2c\n"
     ]
    }
   ],
   "source": [
    "#108 i/p:’abc12’ o/p:’a1b2c’\n",
    "a='abc12'\n",
    "b=''\n",
    "d=''\n",
    "e=''\n",
    "c=0\n",
    "while c<len(a):\n",
    "    if 'a'<=a[c]<='z':\n",
    "        b+=a[c]\n",
    "    else:\n",
    "        d+=a[c]\n",
    "    c+=1\n",
    "f=0\n",
    "while f<len(b):\n",
    "    if f<len(d):\n",
    "        e+=b[f]+d[f]\n",
    "    else:\n",
    "        e+=b[f]\n",
    "    f+=1\n",
    "print(e)"
   ]
  },
  {
   "cell_type": "code",
   "execution_count": 118,
   "metadata": {},
   "outputs": [
    {
     "name": "stdout",
     "output_type": "stream",
     "text": [
      "a1b2c34\n"
     ]
    }
   ],
   "source": [
    "#109 i/p: ‘abc1234’ o/p: ‘a1b2c34’\n",
    "a='abc1234'\n",
    "b=''\n",
    "d=''\n",
    "e=''\n",
    "c=0\n",
    "while c<len(a):\n",
    "    if 'a'<=a[c]<='z':\n",
    "        b+=a[c]\n",
    "    else:\n",
    "        d+=a[c]\n",
    "    c+=1\n",
    "f=0\n",
    "while f<len(d):\n",
    "    if f<len(b):\n",
    "        e+=b[f]+d[f]\n",
    "    else:\n",
    "        e+=d[f]\n",
    "    f+=1\n",
    "print(e)"
   ]
  },
  {
   "cell_type": "code",
   "execution_count": 119,
   "metadata": {},
   "outputs": [
    {
     "name": "stdout",
     "output_type": "stream",
     "text": [
      "a1b2c34\n"
     ]
    }
   ],
   "source": [
    "#110 i/p: ‘1a2bc34’ o/p:’a1b2c34’\n",
    "a='1a2bc34'\n",
    "b=''\n",
    "d=''\n",
    "e=''\n",
    "c=0\n",
    "while c<len(a):\n",
    "    if 'a'<=a[c]<='z':\n",
    "        b+=a[c]\n",
    "    else:\n",
    "        d+=a[c]\n",
    "    c+=1\n",
    "f=0\n",
    "while f<len(d):\n",
    "    if f<len(b):\n",
    "        e+=b[f]+d[f]\n",
    "    else:\n",
    "        e+=d[f]\n",
    "    f+=1\n",
    "print(e)"
   ]
  },
  {
   "cell_type": "code",
   "execution_count": 120,
   "metadata": {},
   "outputs": [
    {
     "name": "stdout",
     "output_type": "stream",
     "text": [
      "3\n"
     ]
    }
   ],
   "source": [
    "#111 i/p:’abcdnmpoijkl12yzabcd5’ o/p:3\n",
    "a='abcdnmpoijkl12yzabcd5'\n",
    "b=0\n",
    "c=0\n",
    "while c<len(a):\n",
    "    if '0'<=a[c]<='9':\n",
    "        b+=1\n",
    "    c+=1\n",
    "print(b)"
   ]
  },
  {
   "cell_type": "code",
   "execution_count": 121,
   "metadata": {},
   "outputs": [
    {
     "name": "stdout",
     "output_type": "stream",
     "text": [
      "2\n"
     ]
    }
   ],
   "source": [
    "#112 i/p: ‘abcdecabcdcccd’ o/p: 2\n",
    "a='abcdecabcdcccd'\n",
    "b=0\n",
    "c=0\n",
    "while c<len(a):\n",
    "    if a[c]=='a':\n",
    "        b+=1\n",
    "    c+=1\n",
    "print(b)"
   ]
  }
 ],
 "metadata": {
  "kernelspec": {
   "display_name": "Python 3",
   "language": "python",
   "name": "python3"
  },
  "language_info": {
   "codemirror_mode": {
    "name": "ipython",
    "version": 3
   },
   "file_extension": ".py",
   "mimetype": "text/x-python",
   "name": "python",
   "nbconvert_exporter": "python",
   "pygments_lexer": "ipython3",
   "version": "3.10.7"
  },
  "orig_nbformat": 4,
  "vscode": {
   "interpreter": {
    "hash": "369f2c481f4da34e4445cda3fffd2e751bd1c4d706f27375911949ba6bb62e1c"
   }
  }
 },
 "nbformat": 4,
 "nbformat_minor": 2
}
