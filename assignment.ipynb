{
 "cells": [
  {
   "cell_type": "code",
   "execution_count": null,
   "metadata": {},
   "outputs": [],
   "source": []
  },
  {
   "cell_type": "code",
   "execution_count": 1,
   "metadata": {},
   "outputs": [
    {
     "name": "stdout",
     "output_type": "stream",
     "text": [
      "positive\n"
     ]
    }
   ],
   "source": [
    "#1 WAPTCW a num is positive .if positive print a  message positive\n",
    "a=10\n",
    "if a>0:\n",
    "    print(\"positive\")"
   ]
  },
  {
   "cell_type": "code",
   "execution_count": 4,
   "metadata": {},
   "outputs": [
    {
     "name": "stdout",
     "output_type": "stream",
     "text": [
      "hello world\n"
     ]
    }
   ],
   "source": [
    "#2 WAPTCW num is greater than 1 and lesser than 5 if satisfied display hello world\n",
    "a=4\n",
    "if a>1 and a<5:\n",
    "    print(\"hello world\")"
   ]
  },
  {
   "cell_type": "code",
   "execution_count": null,
   "metadata": {},
   "outputs": [],
   "source": [
    "#3 WAP to check whether given number is divisible by 3 or not if print fizz.\n",
    "a=6\n",
    "if a%3==0:\n",
    "    print(\"fizz\")"
   ]
  },
  {
   "cell_type": "code",
   "execution_count": 5,
   "metadata": {},
   "outputs": [
    {
     "name": "stdout",
     "output_type": "stream",
     "text": [
      "(60+0j)\n"
     ]
    }
   ],
   "source": [
    "#4 WAPTC whether a given input is divisible by 2 and 6.if the condition is true convert the given number into complex\n",
    "a=60\n",
    "if a%2==0 and a%6==0:\n",
    "    print(complex(a))"
   ]
  },
  {
   "cell_type": "code",
   "execution_count": 14,
   "metadata": {},
   "outputs": [
    {
     "name": "stdout",
     "output_type": "stream",
     "text": [
      "['6', '0']\n"
     ]
    }
   ],
   "source": [
    "#5 WAPTCWG input is divisible by 3 or 5.if the condition is satisfied,the number is converted into list\n",
    "a=60\n",
    "if a%5==0 or a%3==0:\n",
    "    print(list(str(a)))"
   ]
  },
  {
   "cell_type": "code",
   "execution_count": 15,
   "metadata": {},
   "outputs": [
    {
     "name": "stdout",
     "output_type": "stream",
     "text": [
      "multiple of 5\n"
     ]
    }
   ],
   "source": [
    "#6 WAPTCW a given number is multiple of 5 or not\n",
    "a=90\n",
    "if a%5==0:\n",
    "    print(\"multiple of 5\")"
   ]
  },
  {
   "cell_type": "code",
   "execution_count": 16,
   "metadata": {},
   "outputs": [
    {
     "name": "stdout",
     "output_type": "stream",
     "text": [
      "0\n"
     ]
    }
   ],
   "source": [
    "#7 WAPTCW the given input is 0 or not if 0 print 0\n",
    "a=0\n",
    "if a==0:\n",
    "    print(0)"
   ]
  },
  {
   "cell_type": "code",
   "execution_count": 1,
   "metadata": {},
   "outputs": [
    {
     "name": "stdout",
     "output_type": "stream",
     "text": [
      "negative\n"
     ]
    }
   ],
   "source": [
    "#8 WAPTCW a number is negative.if negative print a message negative\n",
    "a=-1\n",
    "if a<0:\n",
    "    print(\"negative\")"
   ]
  },
  {
   "cell_type": "code",
   "execution_count": 3,
   "metadata": {},
   "outputs": [
    {
     "name": "stdout",
     "output_type": "stream",
     "text": [
      "['1', '0']\n"
     ]
    }
   ],
   "source": [
    "#9 WAPTCW a given number is even or not if even store the value inside the list\n",
    "a=10\n",
    "if a%2==0:\n",
    "    print(list(str(a)))"
   ]
  },
  {
   "cell_type": "code",
   "execution_count": 4,
   "metadata": {},
   "outputs": [
    {
     "name": "stdout",
     "output_type": "stream",
     "text": [
      "('1', '1')\n"
     ]
    }
   ],
   "source": [
    "#10 WAPTCW a given number is odd or not if odd store the value inside the tuple\n",
    "a=11\n",
    "if a%2!=0:\n",
    "    print(tuple(str(a))) "
   ]
  },
  {
   "cell_type": "code",
   "execution_count": 5,
   "metadata": {},
   "outputs": [
    {
     "name": "stdout",
     "output_type": "stream",
     "text": [
      "1225\n"
     ]
    }
   ],
   "source": [
    "#11 WAPTCW a check whether a given value is divisible by 5 and 7.if the value is divisible to display the square of the values\n",
    "a=35\n",
    "if a%5==0 and a%7==0:\n",
    "    print(a**2)"
   ]
  },
  {
   "cell_type": "code",
   "execution_count": 6,
   "metadata": {},
   "outputs": [
    {
     "name": "stdout",
     "output_type": "stream",
     "text": [
      "189\n"
     ]
    }
   ],
   "source": [
    "#12 WAPTCW the given values last digit is greater than 5 or not.if greater,to perform the bitwise right shift operator(skipping value is 2)\n",
    "a=756\n",
    "if a%10>5:\n",
    "    print(a>>2)"
   ]
  },
  {
   "cell_type": "code",
   "execution_count": 7,
   "metadata": {},
   "outputs": [
    {
     "name": "stdout",
     "output_type": "stream",
     "text": [
      "225\n"
     ]
    }
   ],
   "source": [
    "#13 WAPTCWG value is divisible by 3 and less than 30 if the value is divisible to display the square of the values\n",
    "a=15\n",
    "if a%3==0 and a<30:\n",
    "    print(a**2)"
   ]
  },
  {
   "cell_type": "code",
   "execution_count": 8,
   "metadata": {},
   "outputs": [
    {
     "name": "stdout",
     "output_type": "stream",
     "text": [
      "85184\n"
     ]
    }
   ],
   "source": [
    "#14 WAPTCW a given value is an even number and divisible by 4 if satisfied display the cube of the values\n",
    "a=44\n",
    "if a%2==0 and a%4==0 and a!=0:\n",
    "    print(a**3)"
   ]
  },
  {
   "cell_type": "code",
   "execution_count": 9,
   "metadata": {},
   "outputs": [
    {
     "name": "stdout",
     "output_type": "stream",
     "text": [
      "['4', '6']\n"
     ]
    }
   ],
   "source": [
    "#15 WAPTCW a given value is even or not if the even number stores the values inside the list\n",
    "a=46\n",
    "if a%2==0 and a!=0:\n",
    "    print(list(str(a)))"
   ]
  },
  {
   "cell_type": "code",
   "execution_count": 12,
   "metadata": {},
   "outputs": [
    {
     "name": "stdout",
     "output_type": "stream",
     "text": [
      "2\n"
     ]
    }
   ],
   "source": [
    "#16 WAPTCW a given value is negative or even number if satisfied display the last digit of the values\n",
    "a=-68\n",
    "if a<0 or a%2==0 and a!=0:\n",
    "    print(a%10)"
   ]
  },
  {
   "cell_type": "code",
   "execution_count": 13,
   "metadata": {},
   "outputs": [
    {
     "name": "stdout",
     "output_type": "stream",
     "text": [
      "-39304\n"
     ]
    }
   ],
   "source": [
    "#17 WAPTCW a given value is negative or odd number and divisible by 4 if satisfied to display the cube of value\n",
    "a=-34\n",
    "if a<0 or a%2!=0:\n",
    "    print(a**3)"
   ]
  },
  {
   "cell_type": "code",
   "execution_count": 15,
   "metadata": {},
   "outputs": [
    {
     "name": "stdout",
     "output_type": "stream",
     "text": [
      "|\n"
     ]
    }
   ],
   "source": [
    "#18 WAPTCW a given value ascii value is divisible by 4 and even value if satisfied display ascii character\n",
    "a=124\n",
    "if 0<=a<=128 and a%4==0:\n",
    "    print(chr(a))"
   ]
  },
  {
   "cell_type": "code",
   "execution_count": 17,
   "metadata": {},
   "outputs": [
    {
     "name": "stdout",
     "output_type": "stream",
     "text": [
      "d\n"
     ]
    }
   ],
   "source": [
    "#19 WAPTCW a given value is present between 45 to 125 and divisible by 4 and 5 and even values if satisfied display the ascii character\n",
    "a=100\n",
    "if 45<=a<=125 and a%4==0 and a%5==0 and a%2==0:\n",
    "    print(chr(a))"
   ]
  },
  {
   "cell_type": "code",
   "execution_count": 18,
   "metadata": {},
   "outputs": [
    {
     "name": "stdout",
     "output_type": "stream",
     "text": [
      "400\n"
     ]
    }
   ],
   "source": [
    "#20 WAPTCW a given value is present between 25 to 100 and divisible by 4 and 5 if satisfied to display multiplication of the given value with 5\n",
    "a=80\n",
    "if 25<=a<=100 and a%4==0 and a%5==0:\n",
    "    print(a*5)"
   ]
  },
  {
   "cell_type": "code",
   "execution_count": 19,
   "metadata": {},
   "outputs": [
    {
     "name": "stdout",
     "output_type": "stream",
     "text": [
      "5 divisible by 5\n"
     ]
    }
   ],
   "source": [
    "#21 WAPTCW a given number is an integer and odd number if satisfied the integer is divisible by 5 and displays the result\n",
    "a=5\n",
    "if type(a)==int and a%2!=0:\n",
    "    print(a,\"divisible by 5\")"
   ]
  },
  {
   "cell_type": "code",
   "execution_count": 1,
   "metadata": {},
   "outputs": [
    {
     "name": "stdout",
     "output_type": "stream",
     "text": [
      "89\n"
     ]
    }
   ],
   "source": [
    "#22 WAPTCW given value is integer or not if integer the given value is satisfied convert it into string and display it\n",
    "a=89\n",
    "if type(a)==int:\n",
    "    print(str(a))"
   ]
  },
  {
   "cell_type": "code",
   "execution_count": 4,
   "metadata": {},
   "outputs": [
    {
     "name": "stdout",
     "output_type": "stream",
     "text": [
      "b\n"
     ]
    }
   ],
   "source": [
    "#23 WAPTCW the given value is less than 125 and greater than 60 or not if the condition is true take the name and extract the middle character and display it\n",
    "a=70\n",
    "if a>60 and a<125:\n",
    "    name='number'\n",
    "    print(name[len(name)//2])"
   ]
  },
  {
   "cell_type": "code",
   "execution_count": 5,
   "metadata": {},
   "outputs": [
    {
     "name": "stdout",
     "output_type": "stream",
     "text": [
      "180\n"
     ]
    }
   ],
   "source": [
    "#24 WAPTCW given two integers are equal or not if both are equal perform addition and display the result\n",
    "a=90\n",
    "b=90\n",
    "if a==b:\n",
    "    print(a+b)"
   ]
  },
  {
   "cell_type": "code",
   "execution_count": 6,
   "metadata": {},
   "outputs": [
    {
     "name": "stdout",
     "output_type": "stream",
     "text": [
      "207\n",
      "1.0\n"
     ]
    }
   ],
   "source": [
    "#25 WAPTCW a given values are equal or not if equal to perform multiplication and division by 3 and display the value\n",
    "a=69\n",
    "b=69\n",
    "if a==b:\n",
    "    print(a*3)\n",
    "    print(a/b)"
   ]
  },
  {
   "cell_type": "code",
   "execution_count": 17,
   "metadata": {},
   "outputs": [
    {
     "name": "stdout",
     "output_type": "stream",
     "text": [
      "{'g': 103}\n"
     ]
    }
   ],
   "source": [
    "#26 WAPTCW the given character is in alphabet or not if alphabet store the value inside the dictionary(key as the character and value as an ascii value)\n",
    "a='g'\n",
    "b={}\n",
    "if 'a'<=a<='z' or 'A'<=a<='Z':\n",
    "    b[a]=ord(a)\n",
    "    print(b)"
   ]
  },
  {
   "cell_type": "code",
   "execution_count": 20,
   "metadata": {},
   "outputs": [
    {
     "name": "stdout",
     "output_type": "stream",
     "text": [
      "{'F': 70}\n"
     ]
    }
   ],
   "source": [
    "#27 WAPTCW The given character is in upper case or  not if the upper case store the value inside the dictionary\n",
    "a='F'\n",
    "b={}\n",
    "if'A'<=a<='Z':\n",
    "    b[a]=ord(a)\n",
    "    print(b)\n",
    "    \n"
   ]
  },
  {
   "cell_type": "code",
   "execution_count": 21,
   "metadata": {},
   "outputs": [
    {
     "name": "stdout",
     "output_type": "stream",
     "text": [
      "{'s': 115}\n"
     ]
    }
   ],
   "source": [
    "#28 WAPTCW the given value is in upper case or not if upper case convert to lower store the value inside the dictionary\n",
    "a='S'\n",
    "b={}\n",
    "if 'A'<=a<='Z':\n",
    "    a=chr(ord(a)+32)\n",
    "    b[a]=ord(a)\n",
    "    print(b) "
   ]
  },
  {
   "cell_type": "code",
   "execution_count": 22,
   "metadata": {},
   "outputs": [
    {
     "name": "stdout",
     "output_type": "stream",
     "text": [
      "sss\n"
     ]
    }
   ],
   "source": [
    "#29 WAPTCW the given character is lower or not if lower perform replication\n",
    "a='s'\n",
    "b={}\n",
    "if 'a'<=a<='z':\n",
    "    print(a*3)"
   ]
  },
  {
   "cell_type": "code",
   "execution_count": 23,
   "metadata": {},
   "outputs": [
    {
     "name": "stdout",
     "output_type": "stream",
     "text": [
      "0\n"
     ]
    }
   ],
   "source": [
    "#30 WAPTCW the given character is ascii number or not if the ascii number convert into integer\n",
    "a='0'\n",
    "if '0'<=a<='9':\n",
    "    print(int(a))"
   ]
  },
  {
   "cell_type": "code",
   "execution_count": 24,
   "metadata": {},
   "outputs": [
    {
     "name": "stdout",
     "output_type": "stream",
     "text": [
      "/ 47\n"
     ]
    }
   ],
   "source": [
    "#31 WAPTCW the given character is the special symbol or not if special symbol display the with ascii value\n",
    "a='/'\n",
    "if not('a'<=a<='z' or 'A'<=a<='Z' or '0'<=a<='9'):\n",
    "    print(a,ord(a))"
   ]
  },
  {
   "cell_type": "code",
   "execution_count": 26,
   "metadata": {},
   "outputs": [
    {
     "name": "stdout",
     "output_type": "stream",
     "text": [
      "Even Number\n"
     ]
    }
   ],
   "source": [
    "#32 WAPTCW the given character is even or not if the even display the an even number\n",
    "a='0'\n",
    "if ord(a)%2==0:\n",
    "    print(\"Even Number\")"
   ]
  },
  {
   "cell_type": "code",
   "execution_count": 28,
   "metadata": {},
   "outputs": [
    {
     "name": "stdout",
     "output_type": "stream",
     "text": [
      "b\n"
     ]
    }
   ],
   "source": [
    "#33 WAPTCW the given character is vowel or not if vowel print the next character\n",
    "a='a'\n",
    "if a in('a','e','i','o','u','A','E','I','O','U'):\n",
    "    print(chr(ord(a)+1))"
   ]
  },
  {
   "cell_type": "code",
   "execution_count": 29,
   "metadata": {},
   "outputs": [
    {
     "name": "stdout",
     "output_type": "stream",
     "text": [
      "6\n"
     ]
    }
   ],
   "source": [
    "#34 WAPTCW the character is not vowel if not vowel print previous character\n",
    "a='7'\n",
    "if a not in('a','e','i','o','u','A','E','I','O','U'):\n",
    "    print(chr(ord(a)-1)) "
   ]
  },
  {
   "cell_type": "code",
   "execution_count": 30,
   "metadata": {},
   "outputs": [
    {
     "name": "stdout",
     "output_type": "stream",
     "text": [
      "89 is single valued data type\n"
     ]
    }
   ],
   "source": [
    "#35 WAPTCW the given value is single valued or not if single value display the given value as single valued data type\n",
    "a=89\n",
    "if type(a) in(int,float,complex,bool,bytes):\n",
    "    print(a,'is single valued data type')"
   ]
  },
  {
   "cell_type": "code",
   "execution_count": 31,
   "metadata": {},
   "outputs": [
    {
     "name": "stdout",
     "output_type": "stream",
     "text": [
      "('v', 'j', 'v', 'h')\n"
     ]
    }
   ],
   "source": [
    "#36 WAPTCW the given value is multivalued if multivalued store the value inside the tuple and display it\n",
    "a=\"vjvh\"\n",
    "if type(a) in(str,dict,set,list):\n",
    "    b=tuple(a)\n",
    "    print(b)\n"
   ]
  },
  {
   "cell_type": "code",
   "execution_count": 32,
   "metadata": {},
   "outputs": [
    {
     "name": "stdout",
     "output_type": "stream",
     "text": [
      "{'p'}\n"
     ]
    }
   ],
   "source": [
    "#37 WAPTCW the given value is immutable or not if an immutable data type store the given value inside the set and display it\n",
    "a='p'\n",
    "if type(a) in(int,float,complex,bool,bytes,str,tuple):\n",
    "    b=set(a)\n",
    "    print(b) "
   ]
  },
  {
   "cell_type": "code",
   "execution_count": 40,
   "metadata": {},
   "outputs": [
    {
     "name": "stdout",
     "output_type": "stream",
     "text": [
      "90\n"
     ]
    }
   ],
   "source": [
    "#38 WAPTCW the given middle element of a given list is odd or not if odd print odd and print the number or else print the number\n",
    "a=[78,89,90,76]\n",
    "b=a[len(a)//2]\n",
    "if b%2 != 0:\n",
    "    print(b,'is odd')\n",
    "print(b)\n"
   ]
  },
  {
   "cell_type": "code",
   "execution_count": 41,
   "metadata": {},
   "outputs": [
    {
     "name": "stdout",
     "output_type": "stream",
     "text": [
      "1702966198800\n"
     ]
    }
   ],
   "source": [
    "#39 WAPTCW the given two variables are pointing to the same memory location or not if they are pointing to the memory location then print the address of both the variables\n",
    "a=10\n",
    "b=10\n",
    "if id(a)==id(b):\n",
    "    print(id(a))"
   ]
  },
  {
   "cell_type": "code",
   "execution_count": 42,
   "metadata": {},
   "outputs": [
    {
     "name": "stdout",
     "output_type": "stream",
     "text": [
      "uhbiin\n"
     ]
    }
   ],
   "source": [
    "#40 WAPTCW the given length of the string is even or not if the condition is satisfied display the sequence of characters from 0 position to length of collection -2.\n",
    "a='uhbiinij'\n",
    "if len(a)%2==0:\n",
    "    print(a[0:-2:1])"
   ]
  },
  {
   "cell_type": "code",
   "execution_count": 43,
   "metadata": {},
   "outputs": [
    {
     "name": "stdout",
     "output_type": "stream",
     "text": [
      "ugukk\n",
      "uyggu\n"
     ]
    }
   ],
   "source": [
    "#41 WAPTCW the given two strings are having the same values or not if both are not the same values then swap the values after swapping print the values.\n",
    "a=\"uyggu\"\n",
    "b=\"ugukk\"\n",
    "if a!=b:\n",
    "    a,b=b,a\n",
    "    print(a)\n",
    "    print(b)"
   ]
  },
  {
   "cell_type": "code",
   "execution_count": 48,
   "metadata": {},
   "outputs": [
    {
     "name": "stdout",
     "output_type": "stream",
     "text": [
      "{'@': 64}\n"
     ]
    }
   ],
   "source": [
    "#42 WAPTCW the given character is special symbol or not if satisfied store the symbol as key and value as a ascii values of the given character inside the character inside the dictionary.\n",
    "a='@'\n",
    "if  not ('a'<=a<='z' or 'A'<=a<='Z' or '0'<=a<='9'):\n",
    "    b={}\n",
    "    b[a]=ord(a)\n",
    "    print(b)"
   ]
  },
  {
   "cell_type": "code",
   "execution_count": 50,
   "metadata": {},
   "outputs": [
    {
     "name": "stdout",
     "output_type": "stream",
     "text": [
      "negative\n"
     ]
    }
   ],
   "source": [
    "#43 WAPTCW the given number is positive or not if positive print positive else negative.\n",
    "a=-90\n",
    "if a>0 and a!=0:\n",
    "    print('positive')\n",
    "else:\n",
    "    print('negative')"
   ]
  },
  {
   "cell_type": "code",
   "execution_count": 51,
   "metadata": {},
   "outputs": [
    {
     "name": "stdout",
     "output_type": "stream",
     "text": [
      "even\n"
     ]
    }
   ],
   "source": [
    "#44 WAPTCW the given number is even or not \n",
    "a=90\n",
    "if a%2==0 and a!=0:\n",
    "    print('even')\n",
    "else:\n",
    "    print('odd')"
   ]
  },
  {
   "cell_type": "code",
   "execution_count": 52,
   "metadata": {},
   "outputs": [
    {
     "name": "stdout",
     "output_type": "stream",
     "text": [
      "greater\n"
     ]
    }
   ],
   "source": [
    "#45 WAPTCW the given number is greater than 10 or not.\n",
    "a=90\n",
    "if a>10:\n",
    "    print('greater')\n",
    "else:\n",
    "    print('smaller')"
   ]
  },
  {
   "cell_type": "code",
   "execution_count": 53,
   "metadata": {},
   "outputs": [
    {
     "name": "stdout",
     "output_type": "stream",
     "text": [
      "/\n"
     ]
    }
   ],
   "source": [
    "#46 WAPTCW a value is present in between 45 to 125 if value is present print ascii character.\n",
    "a=47\n",
    "if 45<=a<=125:\n",
    "    print(chr(a))"
   ]
  },
  {
   "cell_type": "code",
   "execution_count": 54,
   "metadata": {},
   "outputs": [
    {
     "name": "stdout",
     "output_type": "stream",
     "text": [
      "882\n"
     ]
    }
   ],
   "source": [
    "#47 WAPTCW the given two integers are equal if equal multiply to value and or quotation value and display it\n",
    "a=98\n",
    "b=98\n",
    "if a==b:\n",
    "    print(a*9)"
   ]
  },
  {
   "cell_type": "code",
   "execution_count": 55,
   "metadata": {},
   "outputs": [
    {
     "name": "stdout",
     "output_type": "stream",
     "text": [
      "89 is greater\n"
     ]
    }
   ],
   "source": [
    "#48 WAPT find largest of two values\n",
    "a=89\n",
    "b=79\n",
    "if a>b:\n",
    "    print(a,'is greater')\n",
    "else:\n",
    "    print(b,'is greater')"
   ]
  },
  {
   "cell_type": "code",
   "execution_count": 56,
   "metadata": {},
   "outputs": [
    {
     "name": "stdout",
     "output_type": "stream",
     "text": [
      "65 is smaller\n"
     ]
    }
   ],
   "source": [
    "#49 WAPT find smallest of two numbers\n",
    "a=87\n",
    "b=65\n",
    "if a<b:\n",
    "    print(a,'is smaller')\n",
    "else:\n",
    "    print(b,'is smaller')"
   ]
  },
  {
   "cell_type": "code",
   "execution_count": 57,
   "metadata": {},
   "outputs": [
    {
     "name": "stdout",
     "output_type": "stream",
     "text": [
      "99\n"
     ]
    }
   ],
   "source": [
    "#50 WAPTCW the given number is even or odd if even make it as odd number or else if it is odd make it is even\n",
    "a=98\n",
    "if a%2==0:\n",
    "    a+=1\n",
    "    print(a)\n",
    "else:\n",
    "    a+=1\n",
    "    print(a)"
   ]
  },
  {
   "cell_type": "code",
   "execution_count": 58,
   "metadata": {},
   "outputs": [
    {
     "name": "stdout",
     "output_type": "stream",
     "text": [
      "256\n"
     ]
    }
   ],
   "source": [
    "#51 WAPTCW the given number lies between 1 to 19 if it is true square the value or else cube the number and display it\n",
    "a=16\n",
    "if 1<=a<=19:\n",
    "    print(a**2)\n",
    "else:\n",
    "    print(a**3)"
   ]
  },
  {
   "cell_type": "code",
   "execution_count": 59,
   "metadata": {},
   "outputs": [
    {
     "name": "stdout",
     "output_type": "stream",
     "text": [
      "0\n"
     ]
    }
   ],
   "source": [
    "#52 WAPTCW the given value is even and in range 47 to 58 not in 0 or odd if condition is true display the ascii character or else perform floor divison with 5 and display it\n",
    "a=48 \n",
    "if 47<=a<=58 and a%2==0:\n",
    "    print(chr(a))\n",
    "else:\n",
    "    print(a//5)"
   ]
  },
  {
   "cell_type": "code",
   "execution_count": 61,
   "metadata": {},
   "outputs": [
    {
     "name": "stdout",
     "output_type": "stream",
     "text": [
      "{'{': 123}\n"
     ]
    }
   ],
   "source": [
    "#53 WAPTCw the given  value is less than 125 and in between 47 to 125 or not if condition is true store the value as key and value as character or else to append the value in list and display it\n",
    "a=123\n",
    "if 47<=a<=125:\n",
    "    b={}\n",
    "    b[chr(a)]=a\n",
    "    print(b)\n",
    "else:\n",
    "    b=[]\n",
    "    b+=a\n",
    "    print(b) "
   ]
  },
  {
   "cell_type": "code",
   "execution_count": 62,
   "metadata": {},
   "outputs": [
    {
     "name": "stdout",
     "output_type": "stream",
     "text": [
      "d is alphabet\n"
     ]
    }
   ],
   "source": [
    "#54 WAPTCW the given character is alphabet or not if alphabet display alphabet with character or else not  alphabet display not alphabet with character\n",
    "a='d'\n",
    "if ('a'<=a<='z' or 'A'<=a<='Z'):\n",
    "    print(a,'is alphabet')\n",
    "else:\n",
    "     print(a,'is not alphabet')"
   ]
  },
  {
   "cell_type": "code",
   "execution_count": 63,
   "metadata": {},
   "outputs": [
    {
     "name": "stdout",
     "output_type": "stream",
     "text": [
      "other character g\n"
     ]
    }
   ],
   "source": [
    "#55 WAPTCW The given character is uppercase or not if upper case print uppercase  with character else print other character with character\n",
    "a='g'\n",
    "if 'A'<=a<='Z':\n",
    "    print('Uppercase',a)\n",
    "else:\n",
    "    print(\"other character\",a)"
   ]
  },
  {
   "cell_type": "code",
   "execution_count": 64,
   "metadata": {},
   "outputs": [
    {
     "name": "stdout",
     "output_type": "stream",
     "text": [
      "lower case g\n"
     ]
    }
   ],
   "source": [
    "#56 WAPTCW The given character is lowercase or not if lower case print uppercase  with character else print other character with character\n",
    "a='g'\n",
    "if 'a'<=a<='z':\n",
    "    print('lower case',a)\n",
    "else:\n",
    "    print(\"other character \",a)"
   ]
  },
  {
   "cell_type": "code",
   "execution_count": 65,
   "metadata": {},
   "outputs": [
    {
     "name": "stdout",
     "output_type": "stream",
     "text": [
      "a\n"
     ]
    }
   ],
   "source": [
    "#57 WAPTCW The given character is uppercase or lowercase if uppercase convert to lowercase or else display the ascii value\n",
    "a='A'\n",
    "if 'A'<=a<='Z':\n",
    "    print(chr(ord(a)+32))\n",
    "else:\n",
    "    print(ord(a))\n"
   ]
  },
  {
   "cell_type": "code",
   "execution_count": 66,
   "metadata": {},
   "outputs": [
    {
     "name": "stdout",
     "output_type": "stream",
     "text": [
      "A\n"
     ]
    }
   ],
   "source": [
    "#58 WAPTCW The given character is uppercase or lowercase if lowercase convert to uppercase or else uppercase convert to lowercase and display the values:\n",
    "a='a'\n",
    "if 'a'<=a<='z':\n",
    "    print(chr(ord(a)-32))\n",
    "else:\n",
    "    print(chr(ord(a)+32))\n"
   ]
  },
  {
   "cell_type": "code",
   "execution_count": 67,
   "metadata": {},
   "outputs": [
    {
     "name": "stdout",
     "output_type": "stream",
     "text": [
      "x\n"
     ]
    }
   ],
   "source": [
    "#59 WAP to check whether a given character is a vowel or consonant. if vowel, to print the next character of a given character or else print previous characters.\n",
    "a='y'\n",
    "if a in('a','e','i','o','u','A','E','I','O','U'):\n",
    "    print(chr(ord(a)+1))\n",
    "else:\n",
    "    print(chr(ord(a)-1))"
   ]
  },
  {
   "cell_type": "code",
   "execution_count": 69,
   "metadata": {},
   "outputs": [
    {
     "name": "stdout",
     "output_type": "stream",
     "text": [
      "i\n"
     ]
    }
   ],
   "source": [
    "#60 WAP to check whether a given string of first character is alphabet or not if the alphabet prints, reverse the string or else print the middle character.\n",
    "a='2hiuh'\n",
    "if 'a' <= a[0] <='z' or 'A'<=a[0]<='Z':\n",
    "    print(a[::-1])\n",
    "else:\n",
    "    print(a[len(a)//2])"
   ]
  },
  {
   "cell_type": "code",
   "execution_count": 71,
   "metadata": {},
   "outputs": [
    {
     "name": "stdout",
     "output_type": "stream",
     "text": [
      "bfjndk bye\n"
     ]
    }
   ],
   "source": [
    "#61 WAP to check whether a given string is even length or not. if even, to append the new string called \"bye\" or else print the first and last characters.\n",
    "a='bfjndk'\n",
    "if len(a)%2==0:\n",
    "    print(a,'bye')\n",
    "else:\n",
    "    print(a[0],a[-1])"
   ]
  },
  {
   "cell_type": "code",
   "execution_count": 72,
   "metadata": {},
   "outputs": [
    {
     "name": "stdout",
     "output_type": "stream",
     "text": [
      "not leap year\n"
     ]
    }
   ],
   "source": [
    "#62 WAP to check whether a given year is a leap year or not. if leap year, print leap year or else not a leap year.\n",
    "a=2022\n",
    "if (a%4==0 and a%100!=0) or (a%400 and a%100==0):\n",
    "    print('leap year')\n",
    "else:\n",
    "    print('not leap year')"
   ]
  },
  {
   "cell_type": "code",
   "execution_count": 73,
   "metadata": {},
   "outputs": [
    {
     "name": "stdout",
     "output_type": "stream",
     "text": [
      "89 is greatest\n"
     ]
    }
   ],
   "source": [
    "# 63 WAP to find out the greatest of two numbers and display the greatest number. if the greatest number, display the greatest message with value.\n",
    "a=78\n",
    "b=89\n",
    "if a>b:\n",
    "    print(a,'is greatest')\n",
    "else:\n",
    "    print(b,'is greatest')"
   ]
  },
  {
   "cell_type": "code",
   "execution_count": 74,
   "metadata": {},
   "outputs": [
    {
     "name": "stdout",
     "output_type": "stream",
     "text": [
      "89 is not present\n"
     ]
    }
   ],
   "source": [
    "#64 WAP to check whether the given value is present inside the given collection or not. if value is present, display the value is available or else the value is not present.\n",
    "a=[90,85,65,43,21]\n",
    "b=89\n",
    "if b in a:\n",
    "    print(b,'is available')\n",
    "else:\n",
    "    print(b,'is not present')"
   ]
  },
  {
   "cell_type": "code",
   "execution_count": 76,
   "metadata": {},
   "outputs": [
    {
     "name": "stdout",
     "output_type": "stream",
     "text": [
      "32\n"
     ]
    }
   ],
   "source": [
    "#65 WAP to check whether a given value is a list and first and last values should be integer,if condition is satisfied first value is divisible by 5 and perform the bitwise not for last value and values are stored in same positions in list or else 2 power length of the collection and display it.\n",
    "a=[869,859,64878,983,'cv']\n",
    "if type(a)== list and type(a[0])==int and type(a[-1])==int:\n",
    "    a[0]=a[0]/5\n",
    "    a[-1]= ~a[-1]\n",
    "    print(a)\n",
    "else:\n",
    "    print(2**len(a))"
   ]
  },
  {
   "cell_type": "code",
   "execution_count": 84,
   "metadata": {},
   "outputs": [
    {
     "name": "stdout",
     "output_type": "stream",
     "text": [
      "baihi\n"
     ]
    }
   ],
   "source": [
    "#66 WAP to check if the given string of first and second character should be sequence or not. if the sequence prints the first, second and last two characters, or else the first half string is reversed and the remaining half string should be normal and display it.\n",
    "a='abihi'\n",
    "if ord(a[0])==ord(a[1])+1:\n",
    "    print(a[0],a[1],a[-2],a[-1])\n",
    "else:\n",
    "    print(a[:len(a)//2:][::-1]+a[len(a)//2::1])"
   ]
  },
  {
   "cell_type": "code",
   "execution_count": 85,
   "metadata": {},
   "outputs": [
    {
     "name": "stdout",
     "output_type": "stream",
     "text": [
      "76\n"
     ]
    }
   ],
   "source": [
    "#67 WAP to check whether a given key is present in the dictionary or not. if key is present: display the value or else add key and new value inside the dict.\n",
    "a='v'\n",
    "b={'a':98,'v':76,'l':'ui'}\n",
    "if a in b:\n",
    "    print(b[a])\n",
    "else:\n",
    "    b['b']=90\n",
    "    print(b)\n"
   ]
  },
  {
   "cell_type": "code",
   "execution_count": 87,
   "metadata": {},
   "outputs": [
    {
     "name": "stdout",
     "output_type": "stream",
     "text": [
      "{67, 10, 78, 89, 90}\n"
     ]
    }
   ],
   "source": [
    "#68 WAP to check whether a given collection is set or not. if set, append the new value, or else eliminate the duplicate values in collection. final results should be set type.\n",
    "a={90,89,78,67}\n",
    "if type(a)==set:\n",
    "    a=set(tuple(a)+(10,))\n",
    "    print(a)\n",
    "else:\n",
    "    set(a)\n",
    "    print(a)"
   ]
  },
  {
   "cell_type": "code",
   "execution_count": 88,
   "metadata": {},
   "outputs": [
    {
     "name": "stdout",
     "output_type": "stream",
     "text": [
      "eligible for vote\n"
     ]
    }
   ],
   "source": [
    "#69 WAP to read the age of a candidate and determine whether it is eligible for his/her own vote or not.it eligible print age and eligible messages or else print not eligible.\n",
    "a=25\n",
    "if a>18:\n",
    "    print('eligible for vote')\n",
    "else:\n",
    "    print('not eligible')"
   ]
  },
  {
   "cell_type": "code",
   "execution_count": 89,
   "metadata": {},
   "outputs": [
    {
     "name": "stdout",
     "output_type": "stream",
     "text": [
      "6\n"
     ]
    }
   ],
   "source": [
    "#70 WAP to check whether a given value is even and in between 47 to 58 and not in 0 or odd. if condition is True, to perform display the ascii character. or else to perform floor division with 5 and display it.\n",
    "a=54\n",
    "if 47<=a<=58 and a%2==0:\n",
    "    print(chr(a))\n",
    "else:\n",
    "    print(a//5)"
   ]
  },
  {
   "cell_type": "code",
   "execution_count": 90,
   "metadata": {},
   "outputs": [
    {
     "name": "stdout",
     "output_type": "stream",
     "text": [
      "not palindrome\n"
     ]
    }
   ],
   "source": [
    "#71 WAP to check whether the given string is palindrome or not if it is a palindrome string palindrome along with the string if it is not a palindrome print not palindrome\n",
    "a='cbdb'\n",
    "if a==a[::-1]:\n",
    "    print('palindrome')\n",
    "else:\n",
    "    print('not palindrome')"
   ]
  },
  {
   "cell_type": "code",
   "execution_count": 91,
   "metadata": {},
   "outputs": [
    {
     "name": "stdout",
     "output_type": "stream",
     "text": [
      "not palindrome\n"
     ]
    }
   ],
   "source": [
    "#72 WAP to check whether a given number is palindrome or not. If palindrome, display the given value as a palindrome or else not a palindrome.\n",
    "a=983\n",
    "b=str(a)\n",
    "if b==b[::-1]:\n",
    "    print('palindrome')\n",
    "else:\n",
    "    print('not palindrome')"
   ]
  },
  {
   "cell_type": "code",
   "execution_count": 92,
   "metadata": {},
   "outputs": [
    {
     "name": "stdout",
     "output_type": "stream",
     "text": [
      "jfnnhhbf\n"
     ]
    }
   ],
   "source": [
    "#73 WAP to check length of both string collections equal or not if both are equal print the concat the two strings and display, or else if any one of the collection not equal print both the collections with lengths\n",
    "a='jfnn'\n",
    "b='hhbf'\n",
    "if len(a)==len(b):\n",
    "    print(a+b)\n",
    "else:\n",
    "    print(a,len(a))\n",
    "    print(b,len(b))"
   ]
  },
  {
   "cell_type": "code",
   "execution_count": 93,
   "metadata": {},
   "outputs": [
    {
     "name": "stdout",
     "output_type": "stream",
     "text": [
      "n j 1703046685424\n"
     ]
    }
   ],
   "source": [
    "#74 WAP to check whether both given values point to the same memory location or not. if it is true print the middle item of the second collection, or else if it is false print the first item and last item of the first collection along with the memory address.\n",
    "a='njnj'\n",
    "b='nnfjk'\n",
    "if id(a)==id(b):\n",
    "    print(b[len(a)//2])\n",
    "else:\n",
    "    print(a[0],a[-1],id(a))"
   ]
  },
  {
   "cell_type": "code",
   "execution_count": 94,
   "metadata": {},
   "outputs": [
    {
     "name": "stdout",
     "output_type": "stream",
     "text": [
      "bjnjnknbjnjnknbjnjnkn\n"
     ]
    }
   ],
   "source": [
    "#75 WAP to check whether a given string collection is more than ten, and the first + last character of the ascii values should be divisible by 5, if condition is satisfied print first,middle and last characters ASCII values or else print the string three times.\n",
    "a='bjnjnkn'\n",
    "if len(a)>10 and (ord(a[0])+ord(a[-1]))%5==0:\n",
    "    print(ord(a[0]),ord(a[-1]),ord(a[len(a)//2]))\n",
    "elif not(len(a)>10 and (ord(a[0])+ord(a[-1]))%5==0):\n",
    "    print(a*3)"
   ]
  },
  {
   "cell_type": "code",
   "execution_count": 95,
   "metadata": {},
   "outputs": [
    {
     "name": "stdout",
     "output_type": "stream",
     "text": [
      "[90, 98, 'jcd', 89, 70.8]\n"
     ]
    }
   ],
   "source": [
    "#76 WAP to check whether the middle of the item present in the list is string data type or not if it is string print that list or else if it is not string then print that middle item.\n",
    "a=[90,98,'jcd',89,70.8]\n",
    "if type(a[len(a)//2])==str:\n",
    "    print(a)\n",
    "elif type(a[len(a)//2])!=str:\n",
    "    print(a[len(a)//2])"
   ]
  },
  {
   "cell_type": "code",
   "execution_count": 96,
   "metadata": {},
   "outputs": [
    {
     "name": "stdout",
     "output_type": "stream",
     "text": [
      "90 is positive\n"
     ]
    }
   ],
   "source": [
    "#77 WAP to check whether a given value is positive or negative or neutral. if positive,display the positive with value or negative display the negative with value or else display the neutral with value.\n",
    "a=90\n",
    "if a>0:\n",
    "    print(a,'is positive')\n",
    "elif a==0:\n",
    "    print(a,'is zero')\n",
    "else:\n",
    "    print(a,'is negative')"
   ]
  },
  {
   "cell_type": "code",
   "execution_count": 97,
   "metadata": {},
   "outputs": [
    {
     "name": "stdout",
     "output_type": "stream",
     "text": [
      "99 is greater\n"
     ]
    }
   ],
   "source": [
    "#78 WAP to find out the greatest of three numbers, and display the greatest number.\n",
    "a=90\n",
    "b=78\n",
    "c=99\n",
    "if a>b and a>c:\n",
    "    print(a,'is greater')\n",
    "elif b>c and b>a:\n",
    "    print(b,'is greater')\n",
    "else:\n",
    "    print(c,\"is greater\")"
   ]
  },
  {
   "cell_type": "code",
   "execution_count": 99,
   "metadata": {},
   "outputs": [
    {
     "name": "stdout",
     "output_type": "stream",
     "text": [
      "fizz buzz\n"
     ]
    }
   ],
   "source": [
    "#79 Write a program to check whether a given number is divisible by 3 and 5. if the number divisible by 3 print fizz, if the number divisible by 5 print ‘buzz’ if it is divisible by both then print fizz buzz\n",
    "a=45\n",
    "if a%3==0 and a%5==0:\n",
    "    print('fizz buzz')\n",
    "elif a%5==0: \n",
    "    print('buzz')\n",
    "elif a%3==0:\n",
    "    print('fizz')"
   ]
  },
  {
   "cell_type": "code",
   "execution_count": 100,
   "metadata": {},
   "outputs": [
    {
     "name": "stdout",
     "output_type": "stream",
     "text": [
      "less than equals\n"
     ]
    }
   ],
   "source": [
    "#80 WAP to find out the relationship between two values and display the relationship.\n",
    "a=89\n",
    "b=98\n",
    "if a==b:\n",
    "    print('Equals')\n",
    "elif a<=b:\n",
    "    print('less than equals')\n",
    "elif a>=b:\n",
    "    print('greater than equals')\n",
    "elif a>b:\n",
    "    print('greater')\n",
    "elif a<b:\n",
    "    print('lesser')\n",
    "elif a != b:\n",
    "    print('Not Equals')"
   ]
  },
  {
   "cell_type": "code",
   "execution_count": 113,
   "metadata": {},
   "outputs": [],
   "source": [
    "#81 Write a program to check if a given number is one digit or two digit or three digit for more than 3 digit, if one digit displays the one digit value, if two digit displays the two digit value and so on..\n",
    "b=909\n",
    "a=tuple(str(a))\n",
    "if len(a)==1:\n",
    "    print('1 digit')\n",
    "elif len(a)==2:\n",
    "    print('2 digit')\n",
    "elif len(a)>3:\n",
    "    print('3 digit')"
   ]
  },
  {
   "cell_type": "code",
   "execution_count": 1,
   "metadata": {},
   "outputs": [
    {
     "name": "stdout",
     "output_type": "stream",
     "text": [
      "Alphabet a\n"
     ]
    }
   ],
   "source": [
    "#82 WAP to check whether a given character is an alphabet or ascii number or special character or invalid. if alphabet, display the alphabet with character or elif ascii number display the ascii number with character, or else display the special character with character.\n",
    "a='a'\n",
    "if 'a'<=a<='z' or 'A'<=a<='Z':\n",
    "    print('Alphabet',a)\n",
    "elif '0'<=a<='9':\n",
    "    print('ascii number ',a)\n",
    "else:\n",
    "    print('special character',a)"
   ]
  },
  {
   "cell_type": "code",
   "execution_count": 2,
   "metadata": {},
   "outputs": [
    {
     "name": "stdout",
     "output_type": "stream",
     "text": [
      "one\n"
     ]
    }
   ],
   "source": [
    "#83 Write a program to accept any number from 1-5 and display that number in word form.\n",
    "a=1\n",
    "if a==1:\n",
    "    print('one')\n",
    "elif a==2:\n",
    "    print('two')\n",
    "elif a==3:\n",
    "    print('three')\n",
    "elif a==4:\n",
    "    print('four')\n",
    "elif a==5:\n",
    "    print('five')"
   ]
  },
  {
   "cell_type": "code",
   "execution_count": 3,
   "metadata": {},
   "outputs": [
    {
     "name": "stdout",
     "output_type": "stream",
     "text": [
      "B\n"
     ]
    }
   ],
   "source": [
    "#84 WAP to check whether a given character is uppercase or lowercase or special character. if uppercase, convert to lower case or elif lowercase, convert to uppercase or else display the previous, given and next characters and display it.\n",
    "a='b'\n",
    "if 'A'<=a<='Z':\n",
    "    print(chr(ord(a)+32))\n",
    "elif 'a'<=a<='z':\n",
    "    print(chr(ord(a)-32))\n",
    "else:\n",
    "    print(chr(ord(a)-1),a,chr(ord(a)+1))"
   ]
  },
  {
   "cell_type": "code",
   "execution_count": 4,
   "metadata": {},
   "outputs": [
    {
     "name": "stdout",
     "output_type": "stream",
     "text": [
      "lowercase\n"
     ]
    }
   ],
   "source": [
    "#85 WAP to check whether the given character is in lowercase or uppercase, numeric or special characters. Display the what type of case.\n",
    "a='g'\n",
    "if 'a'<=a<='z':\n",
    "    print('lowercase')\n",
    "elif 'A'<=a<='Z':\n",
    "    print('upper case')\n",
    "elif '0'<=a<='9':\n",
    "    print('numeric')\n",
    "else:\n",
    "    print('special character')\n"
   ]
  },
  {
   "cell_type": "code",
   "execution_count": 5,
   "metadata": {},
   "outputs": [
    {
     "name": "stdout",
     "output_type": "stream",
     "text": [
      "Second Grade\n"
     ]
    }
   ],
   "source": [
    "#86 WAP to check whether a given percentage is which grade and display grade. note.(first grade, second grade, third grade, fail)\n",
    "a=78\n",
    "if a>80 and a<100:\n",
    "    print('First Grade')\n",
    "elif a>65 and a<80:\n",
    "    print('Second Grade')\n",
    "elif a>50 and a<65:\n",
    "    print('Third Grade')\n",
    "elif a<50 and a>100:\n",
    "    print('Fail')"
   ]
  },
  {
   "cell_type": "code",
   "execution_count": 7,
   "metadata": {},
   "outputs": [
    {
     "name": "stdout",
     "output_type": "stream",
     "text": [
      "165\n"
     ]
    }
   ],
   "source": [
    "#87 WAP to perform arithmetic operations depends on a user choice.\n",
    "a=89\n",
    "b=76\n",
    "c='Add'\n",
    "if c=='Add':\n",
    "    print(a+b)\n",
    "elif c=='Sub':\n",
    "    print(a-b)\n",
    "    print(b-a)\n",
    "elif c=='Multiply':\n",
    "    print(a*b)\n",
    "elif c=='Division':\n",
    "    print(a/b)\n",
    "    print(b/a)\n",
    "elif c=='Floor Division':\n",
    "    print(a//b)\n",
    "    print(b//a)\n",
    "elif c=='power':\n",
    "    print(a**b)\n",
    "    print(b**a)\n"
   ]
  },
  {
   "cell_type": "code",
   "execution_count": 13,
   "metadata": {},
   "outputs": [
    {
     "name": "stdout",
     "output_type": "stream",
     "text": [
      "[56, 90, '9', 'hbh', 9.9, 90]\n"
     ]
    }
   ],
   "source": [
    "#88 WAP to check whether a given collection is a list or tuple or set or character string. if list, append the new value in middle of the list, if tuple, append the new value in starting of the tuple if set, append the new value in set, or else append a new key as given character and values as an ascii value with character.\n",
    "a=[56,90,'hbh',9.9,90]\n",
    "if type(a)==list:\n",
    "    a[len(a)//2:len(a)//2]='9'\n",
    "    print(a)\n",
    "elif type(a)==tuple:\n",
    "    a=(45,)+a\n",
    "    print(a)\n",
    "elif type(a)==str and len(a)==1:\n",
    "    b={}\n",
    "    b[a]=ord(a)\n",
    "    print(b)"
   ]
  },
  {
   "cell_type": "code",
   "execution_count": 22,
   "metadata": {},
   "outputs": [
    {
     "name": "stdout",
     "output_type": "stream",
     "text": [
      "['k', 'g', 'j', 'b', 'h', 'k']\n"
     ]
    }
   ],
   "source": [
    "#89 WAP to check whether a given value is a integer or float or string or other, if integer,given value division by 5 and display the quotient,\n",
    "#if float, perform the bitwise or operation with 15, if string, extract for last position value and store it in first positions of the string, else store the value in the list and display the result.\n",
    "a='agjbhk'\n",
    "if type(a)==int:\n",
    "    print(a/5)\n",
    "elif type(a)==float:\n",
    "    print(a|15)\n",
    "elif type(a)==str and len(a)>2:\n",
    "    a=list(a)\n",
    "    a[0]=a[-1]\n",
    "    b=str(a)\n",
    "    print(b)\n",
    "else:\n",
    "    a=list(a)\n",
    "    print(a)\n",
    "\n"
   ]
  },
  {
   "cell_type": "code",
   "execution_count": 24,
   "metadata": {},
   "outputs": [
    {
     "name": "stdout",
     "output_type": "stream",
     "text": [
      "J\n"
     ]
    }
   ],
   "source": [
    "#90 WAP to check whether the given input alphabet present in a collection or not if it is present in the collection check whether that alphabet is uppercase or lowercase if it is\n",
    "#uppercase convert it into lowercase and vice versa if the alphabet not present in the collection print invalid\n",
    "a='j'\n",
    "b='hbjnsajk'\n",
    "if a in b:\n",
    "    if 'A'<=a<='Z':\n",
    "        print(chr(ord(a)+32))\n",
    "    elif 'a'<=a<='z':\n",
    "        print(chr(ord(a)-32))\n",
    "else:\n",
    "    print('Not present in collection print invalid')"
   ]
  },
  {
   "cell_type": "code",
   "execution_count": 26,
   "metadata": {},
   "outputs": [
    {
     "name": "stdout",
     "output_type": "stream",
     "text": [
      "vjj\n"
     ]
    }
   ],
   "source": [
    "#91 WAP to check whether the given input character is present in a given string collection or not.\n",
    "#if it is present, check whether the collection length is even or odd,\n",
    "#if it is even print even indexed items of that collection using slicing\n",
    "#if it is odd, print odd indexed item of that collection\n",
    "#if the character not present in the collection just print that collection\n",
    "a='h'\n",
    "b='hjvcjhjt'\n",
    "if a in b:\n",
    "    if len(b)%2==0:\n",
    "        print(b[2::2])\n",
    "    else:\n",
    "        print(b[1::2])\n",
    "else:\n",
    "    print(b)"
   ]
  }
 ],
 "metadata": {
  "kernelspec": {
   "display_name": "Python 3",
   "language": "python",
   "name": "python3"
  },
  "language_info": {
   "codemirror_mode": {
    "name": "ipython",
    "version": 3
   },
   "file_extension": ".py",
   "mimetype": "text/x-python",
   "name": "python",
   "nbconvert_exporter": "python",
   "pygments_lexer": "ipython3",
   "version": "3.10.7 (tags/v3.10.7:6cc6b13, Sep  5 2022, 14:08:36) [MSC v.1933 64 bit (AMD64)]"
  },
  "orig_nbformat": 4,
  "vscode": {
   "interpreter": {
    "hash": "369f2c481f4da34e4445cda3fffd2e751bd1c4d706f27375911949ba6bb62e1c"
   }
  }
 },
 "nbformat": 4,
 "nbformat_minor": 2
}
